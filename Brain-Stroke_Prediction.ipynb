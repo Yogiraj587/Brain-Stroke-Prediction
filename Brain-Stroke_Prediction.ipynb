{
 "cells": [
  {
   "cell_type": "markdown",
   "metadata": {},
   "source": [
    "### Brain Stroke Prediction"
   ]
  },
  {
   "cell_type": "code",
   "execution_count": 1,
   "metadata": {},
   "outputs": [],
   "source": [
    "import numpy as np\n",
    "import pandas as pd\n",
    "import matplotlib.pyplot as plt\n",
    "import seaborn as sns"
   ]
  },
  {
   "cell_type": "code",
   "execution_count": 2,
   "metadata": {},
   "outputs": [
    {
     "data": {
      "text/html": [
       "<div>\n",
       "<style scoped>\n",
       "    .dataframe tbody tr th:only-of-type {\n",
       "        vertical-align: middle;\n",
       "    }\n",
       "\n",
       "    .dataframe tbody tr th {\n",
       "        vertical-align: top;\n",
       "    }\n",
       "\n",
       "    .dataframe thead th {\n",
       "        text-align: right;\n",
       "    }\n",
       "</style>\n",
       "<table border=\"1\" class=\"dataframe\">\n",
       "  <thead>\n",
       "    <tr style=\"text-align: right;\">\n",
       "      <th></th>\n",
       "      <th>gender</th>\n",
       "      <th>age</th>\n",
       "      <th>hypertension</th>\n",
       "      <th>heart_disease</th>\n",
       "      <th>ever_married</th>\n",
       "      <th>work_type</th>\n",
       "      <th>Residence_type</th>\n",
       "      <th>avg_glucose_level</th>\n",
       "      <th>bmi</th>\n",
       "      <th>smoking_status</th>\n",
       "      <th>stroke</th>\n",
       "    </tr>\n",
       "  </thead>\n",
       "  <tbody>\n",
       "    <tr>\n",
       "      <th>0</th>\n",
       "      <td>Male</td>\n",
       "      <td>67.0</td>\n",
       "      <td>0</td>\n",
       "      <td>1</td>\n",
       "      <td>Yes</td>\n",
       "      <td>Private</td>\n",
       "      <td>Urban</td>\n",
       "      <td>228.69</td>\n",
       "      <td>36.6</td>\n",
       "      <td>formerly smoked</td>\n",
       "      <td>1</td>\n",
       "    </tr>\n",
       "    <tr>\n",
       "      <th>1</th>\n",
       "      <td>Male</td>\n",
       "      <td>80.0</td>\n",
       "      <td>0</td>\n",
       "      <td>1</td>\n",
       "      <td>Yes</td>\n",
       "      <td>Private</td>\n",
       "      <td>Rural</td>\n",
       "      <td>105.92</td>\n",
       "      <td>32.5</td>\n",
       "      <td>never smoked</td>\n",
       "      <td>1</td>\n",
       "    </tr>\n",
       "    <tr>\n",
       "      <th>2</th>\n",
       "      <td>Female</td>\n",
       "      <td>49.0</td>\n",
       "      <td>0</td>\n",
       "      <td>0</td>\n",
       "      <td>Yes</td>\n",
       "      <td>Private</td>\n",
       "      <td>Urban</td>\n",
       "      <td>171.23</td>\n",
       "      <td>34.4</td>\n",
       "      <td>smokes</td>\n",
       "      <td>1</td>\n",
       "    </tr>\n",
       "    <tr>\n",
       "      <th>3</th>\n",
       "      <td>Female</td>\n",
       "      <td>79.0</td>\n",
       "      <td>1</td>\n",
       "      <td>0</td>\n",
       "      <td>Yes</td>\n",
       "      <td>Self-employed</td>\n",
       "      <td>Rural</td>\n",
       "      <td>174.12</td>\n",
       "      <td>24.0</td>\n",
       "      <td>never smoked</td>\n",
       "      <td>1</td>\n",
       "    </tr>\n",
       "    <tr>\n",
       "      <th>4</th>\n",
       "      <td>Male</td>\n",
       "      <td>81.0</td>\n",
       "      <td>0</td>\n",
       "      <td>0</td>\n",
       "      <td>Yes</td>\n",
       "      <td>Private</td>\n",
       "      <td>Urban</td>\n",
       "      <td>186.21</td>\n",
       "      <td>29.0</td>\n",
       "      <td>formerly smoked</td>\n",
       "      <td>1</td>\n",
       "    </tr>\n",
       "  </tbody>\n",
       "</table>\n",
       "</div>"
      ],
      "text/plain": [
       "   gender   age  hypertension  heart_disease ever_married      work_type  \\\n",
       "0    Male  67.0             0              1          Yes        Private   \n",
       "1    Male  80.0             0              1          Yes        Private   \n",
       "2  Female  49.0             0              0          Yes        Private   \n",
       "3  Female  79.0             1              0          Yes  Self-employed   \n",
       "4    Male  81.0             0              0          Yes        Private   \n",
       "\n",
       "  Residence_type  avg_glucose_level   bmi   smoking_status  stroke  \n",
       "0          Urban             228.69  36.6  formerly smoked       1  \n",
       "1          Rural             105.92  32.5     never smoked       1  \n",
       "2          Urban             171.23  34.4           smokes       1  \n",
       "3          Rural             174.12  24.0     never smoked       1  \n",
       "4          Urban             186.21  29.0  formerly smoked       1  "
      ]
     },
     "execution_count": 2,
     "metadata": {},
     "output_type": "execute_result"
    }
   ],
   "source": [
    "df = pd.read_csv(\"Brain stroke.csv\")\n",
    "df.head()"
   ]
  },
  {
   "cell_type": "code",
   "execution_count": 3,
   "metadata": {},
   "outputs": [
    {
     "name": "stdout",
     "output_type": "stream",
     "text": [
      "<class 'pandas.core.frame.DataFrame'>\n",
      "RangeIndex: 4981 entries, 0 to 4980\n",
      "Data columns (total 11 columns):\n",
      " #   Column             Non-Null Count  Dtype  \n",
      "---  ------             --------------  -----  \n",
      " 0   gender             4981 non-null   object \n",
      " 1   age                4981 non-null   float64\n",
      " 2   hypertension       4981 non-null   int64  \n",
      " 3   heart_disease      4981 non-null   int64  \n",
      " 4   ever_married       4981 non-null   object \n",
      " 5   work_type          4981 non-null   object \n",
      " 6   Residence_type     4981 non-null   object \n",
      " 7   avg_glucose_level  4981 non-null   float64\n",
      " 8   bmi                4981 non-null   float64\n",
      " 9   smoking_status     4981 non-null   object \n",
      " 10  stroke             4981 non-null   int64  \n",
      "dtypes: float64(3), int64(3), object(5)\n",
      "memory usage: 428.2+ KB\n"
     ]
    }
   ],
   "source": [
    "df.info()"
   ]
  },
  {
   "cell_type": "code",
   "execution_count": 4,
   "metadata": {},
   "outputs": [
    {
     "data": {
      "text/html": [
       "<div>\n",
       "<style scoped>\n",
       "    .dataframe tbody tr th:only-of-type {\n",
       "        vertical-align: middle;\n",
       "    }\n",
       "\n",
       "    .dataframe tbody tr th {\n",
       "        vertical-align: top;\n",
       "    }\n",
       "\n",
       "    .dataframe thead th {\n",
       "        text-align: right;\n",
       "    }\n",
       "</style>\n",
       "<table border=\"1\" class=\"dataframe\">\n",
       "  <thead>\n",
       "    <tr style=\"text-align: right;\">\n",
       "      <th></th>\n",
       "      <th>age</th>\n",
       "      <th>hypertension</th>\n",
       "      <th>heart_disease</th>\n",
       "      <th>avg_glucose_level</th>\n",
       "      <th>bmi</th>\n",
       "      <th>stroke</th>\n",
       "    </tr>\n",
       "  </thead>\n",
       "  <tbody>\n",
       "    <tr>\n",
       "      <th>count</th>\n",
       "      <td>4981.000000</td>\n",
       "      <td>4981.000000</td>\n",
       "      <td>4981.000000</td>\n",
       "      <td>4981.000000</td>\n",
       "      <td>4981.000000</td>\n",
       "      <td>4981.000000</td>\n",
       "    </tr>\n",
       "    <tr>\n",
       "      <th>mean</th>\n",
       "      <td>43.419859</td>\n",
       "      <td>0.096165</td>\n",
       "      <td>0.055210</td>\n",
       "      <td>105.943562</td>\n",
       "      <td>28.498173</td>\n",
       "      <td>0.049789</td>\n",
       "    </tr>\n",
       "    <tr>\n",
       "      <th>std</th>\n",
       "      <td>22.662755</td>\n",
       "      <td>0.294848</td>\n",
       "      <td>0.228412</td>\n",
       "      <td>45.075373</td>\n",
       "      <td>6.790464</td>\n",
       "      <td>0.217531</td>\n",
       "    </tr>\n",
       "    <tr>\n",
       "      <th>min</th>\n",
       "      <td>0.080000</td>\n",
       "      <td>0.000000</td>\n",
       "      <td>0.000000</td>\n",
       "      <td>55.120000</td>\n",
       "      <td>14.000000</td>\n",
       "      <td>0.000000</td>\n",
       "    </tr>\n",
       "    <tr>\n",
       "      <th>25%</th>\n",
       "      <td>25.000000</td>\n",
       "      <td>0.000000</td>\n",
       "      <td>0.000000</td>\n",
       "      <td>77.230000</td>\n",
       "      <td>23.700000</td>\n",
       "      <td>0.000000</td>\n",
       "    </tr>\n",
       "    <tr>\n",
       "      <th>50%</th>\n",
       "      <td>45.000000</td>\n",
       "      <td>0.000000</td>\n",
       "      <td>0.000000</td>\n",
       "      <td>91.850000</td>\n",
       "      <td>28.100000</td>\n",
       "      <td>0.000000</td>\n",
       "    </tr>\n",
       "    <tr>\n",
       "      <th>75%</th>\n",
       "      <td>61.000000</td>\n",
       "      <td>0.000000</td>\n",
       "      <td>0.000000</td>\n",
       "      <td>113.860000</td>\n",
       "      <td>32.600000</td>\n",
       "      <td>0.000000</td>\n",
       "    </tr>\n",
       "    <tr>\n",
       "      <th>max</th>\n",
       "      <td>82.000000</td>\n",
       "      <td>1.000000</td>\n",
       "      <td>1.000000</td>\n",
       "      <td>271.740000</td>\n",
       "      <td>48.900000</td>\n",
       "      <td>1.000000</td>\n",
       "    </tr>\n",
       "  </tbody>\n",
       "</table>\n",
       "</div>"
      ],
      "text/plain": [
       "               age  hypertension  heart_disease  avg_glucose_level  \\\n",
       "count  4981.000000   4981.000000    4981.000000        4981.000000   \n",
       "mean     43.419859      0.096165       0.055210         105.943562   \n",
       "std      22.662755      0.294848       0.228412          45.075373   \n",
       "min       0.080000      0.000000       0.000000          55.120000   \n",
       "25%      25.000000      0.000000       0.000000          77.230000   \n",
       "50%      45.000000      0.000000       0.000000          91.850000   \n",
       "75%      61.000000      0.000000       0.000000         113.860000   \n",
       "max      82.000000      1.000000       1.000000         271.740000   \n",
       "\n",
       "               bmi       stroke  \n",
       "count  4981.000000  4981.000000  \n",
       "mean     28.498173     0.049789  \n",
       "std       6.790464     0.217531  \n",
       "min      14.000000     0.000000  \n",
       "25%      23.700000     0.000000  \n",
       "50%      28.100000     0.000000  \n",
       "75%      32.600000     0.000000  \n",
       "max      48.900000     1.000000  "
      ]
     },
     "execution_count": 4,
     "metadata": {},
     "output_type": "execute_result"
    }
   ],
   "source": [
    "df.describe()"
   ]
  },
  {
   "cell_type": "code",
   "execution_count": 5,
   "metadata": {},
   "outputs": [
    {
     "data": {
      "text/plain": [
       "gender               0\n",
       "age                  0\n",
       "hypertension         0\n",
       "heart_disease        0\n",
       "ever_married         0\n",
       "work_type            0\n",
       "Residence_type       0\n",
       "avg_glucose_level    0\n",
       "bmi                  0\n",
       "smoking_status       0\n",
       "stroke               0\n",
       "dtype: int64"
      ]
     },
     "execution_count": 5,
     "metadata": {},
     "output_type": "execute_result"
    }
   ],
   "source": [
    "df.isnull().sum()"
   ]
  },
  {
   "cell_type": "code",
   "execution_count": 6,
   "metadata": {},
   "outputs": [
    {
     "data": {
      "text/plain": [
       "Female    2907\n",
       "Male      2074\n",
       "Name: gender, dtype: int64"
      ]
     },
     "execution_count": 6,
     "metadata": {},
     "output_type": "execute_result"
    }
   ],
   "source": [
    "df[\"gender\"].value_counts()"
   ]
  },
  {
   "cell_type": "code",
   "execution_count": 7,
   "metadata": {},
   "outputs": [],
   "source": [
    "df[\"gender\"] = df[\"gender\"].map({\"Male\":0,\"Female\":1})"
   ]
  },
  {
   "cell_type": "code",
   "execution_count": 8,
   "metadata": {},
   "outputs": [
    {
     "data": {
      "text/html": [
       "<div>\n",
       "<style scoped>\n",
       "    .dataframe tbody tr th:only-of-type {\n",
       "        vertical-align: middle;\n",
       "    }\n",
       "\n",
       "    .dataframe tbody tr th {\n",
       "        vertical-align: top;\n",
       "    }\n",
       "\n",
       "    .dataframe thead th {\n",
       "        text-align: right;\n",
       "    }\n",
       "</style>\n",
       "<table border=\"1\" class=\"dataframe\">\n",
       "  <thead>\n",
       "    <tr style=\"text-align: right;\">\n",
       "      <th></th>\n",
       "      <th>gender</th>\n",
       "      <th>age</th>\n",
       "      <th>hypertension</th>\n",
       "      <th>heart_disease</th>\n",
       "      <th>ever_married</th>\n",
       "      <th>work_type</th>\n",
       "      <th>Residence_type</th>\n",
       "      <th>avg_glucose_level</th>\n",
       "      <th>bmi</th>\n",
       "      <th>smoking_status</th>\n",
       "      <th>stroke</th>\n",
       "    </tr>\n",
       "  </thead>\n",
       "  <tbody>\n",
       "    <tr>\n",
       "      <th>0</th>\n",
       "      <td>0</td>\n",
       "      <td>67.0</td>\n",
       "      <td>0</td>\n",
       "      <td>1</td>\n",
       "      <td>Yes</td>\n",
       "      <td>Private</td>\n",
       "      <td>Urban</td>\n",
       "      <td>228.69</td>\n",
       "      <td>36.6</td>\n",
       "      <td>formerly smoked</td>\n",
       "      <td>1</td>\n",
       "    </tr>\n",
       "    <tr>\n",
       "      <th>1</th>\n",
       "      <td>0</td>\n",
       "      <td>80.0</td>\n",
       "      <td>0</td>\n",
       "      <td>1</td>\n",
       "      <td>Yes</td>\n",
       "      <td>Private</td>\n",
       "      <td>Rural</td>\n",
       "      <td>105.92</td>\n",
       "      <td>32.5</td>\n",
       "      <td>never smoked</td>\n",
       "      <td>1</td>\n",
       "    </tr>\n",
       "    <tr>\n",
       "      <th>2</th>\n",
       "      <td>1</td>\n",
       "      <td>49.0</td>\n",
       "      <td>0</td>\n",
       "      <td>0</td>\n",
       "      <td>Yes</td>\n",
       "      <td>Private</td>\n",
       "      <td>Urban</td>\n",
       "      <td>171.23</td>\n",
       "      <td>34.4</td>\n",
       "      <td>smokes</td>\n",
       "      <td>1</td>\n",
       "    </tr>\n",
       "    <tr>\n",
       "      <th>3</th>\n",
       "      <td>1</td>\n",
       "      <td>79.0</td>\n",
       "      <td>1</td>\n",
       "      <td>0</td>\n",
       "      <td>Yes</td>\n",
       "      <td>Self-employed</td>\n",
       "      <td>Rural</td>\n",
       "      <td>174.12</td>\n",
       "      <td>24.0</td>\n",
       "      <td>never smoked</td>\n",
       "      <td>1</td>\n",
       "    </tr>\n",
       "    <tr>\n",
       "      <th>4</th>\n",
       "      <td>0</td>\n",
       "      <td>81.0</td>\n",
       "      <td>0</td>\n",
       "      <td>0</td>\n",
       "      <td>Yes</td>\n",
       "      <td>Private</td>\n",
       "      <td>Urban</td>\n",
       "      <td>186.21</td>\n",
       "      <td>29.0</td>\n",
       "      <td>formerly smoked</td>\n",
       "      <td>1</td>\n",
       "    </tr>\n",
       "  </tbody>\n",
       "</table>\n",
       "</div>"
      ],
      "text/plain": [
       "   gender   age  hypertension  heart_disease ever_married      work_type  \\\n",
       "0       0  67.0             0              1          Yes        Private   \n",
       "1       0  80.0             0              1          Yes        Private   \n",
       "2       1  49.0             0              0          Yes        Private   \n",
       "3       1  79.0             1              0          Yes  Self-employed   \n",
       "4       0  81.0             0              0          Yes        Private   \n",
       "\n",
       "  Residence_type  avg_glucose_level   bmi   smoking_status  stroke  \n",
       "0          Urban             228.69  36.6  formerly smoked       1  \n",
       "1          Rural             105.92  32.5     never smoked       1  \n",
       "2          Urban             171.23  34.4           smokes       1  \n",
       "3          Rural             174.12  24.0     never smoked       1  \n",
       "4          Urban             186.21  29.0  formerly smoked       1  "
      ]
     },
     "execution_count": 8,
     "metadata": {},
     "output_type": "execute_result"
    }
   ],
   "source": [
    "df.head()"
   ]
  },
  {
   "cell_type": "code",
   "execution_count": 9,
   "metadata": {},
   "outputs": [
    {
     "data": {
      "text/plain": [
       "Yes    3280\n",
       "No     1701\n",
       "Name: ever_married, dtype: int64"
      ]
     },
     "execution_count": 9,
     "metadata": {},
     "output_type": "execute_result"
    }
   ],
   "source": [
    "df[\"ever_married\"].value_counts()"
   ]
  },
  {
   "cell_type": "code",
   "execution_count": 10,
   "metadata": {},
   "outputs": [],
   "source": [
    "df[\"ever_married\"] = df[\"ever_married\"].map({\"Yes\":1,\"No\":2})"
   ]
  },
  {
   "cell_type": "code",
   "execution_count": 11,
   "metadata": {},
   "outputs": [
    {
     "data": {
      "text/html": [
       "<div>\n",
       "<style scoped>\n",
       "    .dataframe tbody tr th:only-of-type {\n",
       "        vertical-align: middle;\n",
       "    }\n",
       "\n",
       "    .dataframe tbody tr th {\n",
       "        vertical-align: top;\n",
       "    }\n",
       "\n",
       "    .dataframe thead th {\n",
       "        text-align: right;\n",
       "    }\n",
       "</style>\n",
       "<table border=\"1\" class=\"dataframe\">\n",
       "  <thead>\n",
       "    <tr style=\"text-align: right;\">\n",
       "      <th></th>\n",
       "      <th>gender</th>\n",
       "      <th>age</th>\n",
       "      <th>hypertension</th>\n",
       "      <th>heart_disease</th>\n",
       "      <th>ever_married</th>\n",
       "      <th>work_type</th>\n",
       "      <th>Residence_type</th>\n",
       "      <th>avg_glucose_level</th>\n",
       "      <th>bmi</th>\n",
       "      <th>smoking_status</th>\n",
       "      <th>stroke</th>\n",
       "    </tr>\n",
       "  </thead>\n",
       "  <tbody>\n",
       "    <tr>\n",
       "      <th>0</th>\n",
       "      <td>0</td>\n",
       "      <td>67.0</td>\n",
       "      <td>0</td>\n",
       "      <td>1</td>\n",
       "      <td>1</td>\n",
       "      <td>Private</td>\n",
       "      <td>Urban</td>\n",
       "      <td>228.69</td>\n",
       "      <td>36.6</td>\n",
       "      <td>formerly smoked</td>\n",
       "      <td>1</td>\n",
       "    </tr>\n",
       "    <tr>\n",
       "      <th>1</th>\n",
       "      <td>0</td>\n",
       "      <td>80.0</td>\n",
       "      <td>0</td>\n",
       "      <td>1</td>\n",
       "      <td>1</td>\n",
       "      <td>Private</td>\n",
       "      <td>Rural</td>\n",
       "      <td>105.92</td>\n",
       "      <td>32.5</td>\n",
       "      <td>never smoked</td>\n",
       "      <td>1</td>\n",
       "    </tr>\n",
       "    <tr>\n",
       "      <th>2</th>\n",
       "      <td>1</td>\n",
       "      <td>49.0</td>\n",
       "      <td>0</td>\n",
       "      <td>0</td>\n",
       "      <td>1</td>\n",
       "      <td>Private</td>\n",
       "      <td>Urban</td>\n",
       "      <td>171.23</td>\n",
       "      <td>34.4</td>\n",
       "      <td>smokes</td>\n",
       "      <td>1</td>\n",
       "    </tr>\n",
       "    <tr>\n",
       "      <th>3</th>\n",
       "      <td>1</td>\n",
       "      <td>79.0</td>\n",
       "      <td>1</td>\n",
       "      <td>0</td>\n",
       "      <td>1</td>\n",
       "      <td>Self-employed</td>\n",
       "      <td>Rural</td>\n",
       "      <td>174.12</td>\n",
       "      <td>24.0</td>\n",
       "      <td>never smoked</td>\n",
       "      <td>1</td>\n",
       "    </tr>\n",
       "    <tr>\n",
       "      <th>4</th>\n",
       "      <td>0</td>\n",
       "      <td>81.0</td>\n",
       "      <td>0</td>\n",
       "      <td>0</td>\n",
       "      <td>1</td>\n",
       "      <td>Private</td>\n",
       "      <td>Urban</td>\n",
       "      <td>186.21</td>\n",
       "      <td>29.0</td>\n",
       "      <td>formerly smoked</td>\n",
       "      <td>1</td>\n",
       "    </tr>\n",
       "  </tbody>\n",
       "</table>\n",
       "</div>"
      ],
      "text/plain": [
       "   gender   age  hypertension  heart_disease  ever_married      work_type  \\\n",
       "0       0  67.0             0              1             1        Private   \n",
       "1       0  80.0             0              1             1        Private   \n",
       "2       1  49.0             0              0             1        Private   \n",
       "3       1  79.0             1              0             1  Self-employed   \n",
       "4       0  81.0             0              0             1        Private   \n",
       "\n",
       "  Residence_type  avg_glucose_level   bmi   smoking_status  stroke  \n",
       "0          Urban             228.69  36.6  formerly smoked       1  \n",
       "1          Rural             105.92  32.5     never smoked       1  \n",
       "2          Urban             171.23  34.4           smokes       1  \n",
       "3          Rural             174.12  24.0     never smoked       1  \n",
       "4          Urban             186.21  29.0  formerly smoked       1  "
      ]
     },
     "execution_count": 11,
     "metadata": {},
     "output_type": "execute_result"
    }
   ],
   "source": [
    "df.head()"
   ]
  },
  {
   "cell_type": "code",
   "execution_count": 12,
   "metadata": {},
   "outputs": [
    {
     "data": {
      "text/plain": [
       "Private          2860\n",
       "Self-employed     804\n",
       "children          673\n",
       "Govt_job          644\n",
       "Name: work_type, dtype: int64"
      ]
     },
     "execution_count": 12,
     "metadata": {},
     "output_type": "execute_result"
    }
   ],
   "source": [
    "df[\"work_type\"].value_counts()"
   ]
  },
  {
   "cell_type": "code",
   "execution_count": 13,
   "metadata": {},
   "outputs": [
    {
     "data": {
      "text/plain": [
       "(4981, 11)"
      ]
     },
     "execution_count": 13,
     "metadata": {},
     "output_type": "execute_result"
    }
   ],
   "source": [
    "df.shape"
   ]
  },
  {
   "cell_type": "code",
   "execution_count": 14,
   "metadata": {},
   "outputs": [],
   "source": [
    "df[\"work_type\"] = df[\"work_type\"].map({\"children\":0,\"Govt_job\":1,\"Self-employed\":2,\"Private\":3})"
   ]
  },
  {
   "cell_type": "code",
   "execution_count": 15,
   "metadata": {},
   "outputs": [
    {
     "data": {
      "text/plain": [
       "0    3\n",
       "1    3\n",
       "2    3\n",
       "3    2\n",
       "4    3\n",
       "Name: work_type, dtype: int64"
      ]
     },
     "execution_count": 15,
     "metadata": {},
     "output_type": "execute_result"
    }
   ],
   "source": [
    "df[\"work_type\"].head()"
   ]
  },
  {
   "cell_type": "code",
   "execution_count": 16,
   "metadata": {},
   "outputs": [
    {
     "name": "stdout",
     "output_type": "stream",
     "text": [
      "<class 'pandas.core.frame.DataFrame'>\n",
      "RangeIndex: 4981 entries, 0 to 4980\n",
      "Data columns (total 11 columns):\n",
      " #   Column             Non-Null Count  Dtype  \n",
      "---  ------             --------------  -----  \n",
      " 0   gender             4981 non-null   int64  \n",
      " 1   age                4981 non-null   float64\n",
      " 2   hypertension       4981 non-null   int64  \n",
      " 3   heart_disease      4981 non-null   int64  \n",
      " 4   ever_married       4981 non-null   int64  \n",
      " 5   work_type          4981 non-null   int64  \n",
      " 6   Residence_type     4981 non-null   object \n",
      " 7   avg_glucose_level  4981 non-null   float64\n",
      " 8   bmi                4981 non-null   float64\n",
      " 9   smoking_status     4981 non-null   object \n",
      " 10  stroke             4981 non-null   int64  \n",
      "dtypes: float64(3), int64(6), object(2)\n",
      "memory usage: 428.2+ KB\n"
     ]
    }
   ],
   "source": [
    "df.info()"
   ]
  },
  {
   "cell_type": "code",
   "execution_count": 17,
   "metadata": {},
   "outputs": [
    {
     "data": {
      "text/plain": [
       "Urban    2532\n",
       "Rural    2449\n",
       "Name: Residence_type, dtype: int64"
      ]
     },
     "execution_count": 17,
     "metadata": {},
     "output_type": "execute_result"
    }
   ],
   "source": [
    "df[\"Residence_type\"].value_counts()"
   ]
  },
  {
   "cell_type": "code",
   "execution_count": 18,
   "metadata": {},
   "outputs": [],
   "source": [
    "df[\"Residence_type\"] = df[\"Residence_type\"].map({\"Urban\":1,\"Rural\":0})"
   ]
  },
  {
   "cell_type": "code",
   "execution_count": 19,
   "metadata": {},
   "outputs": [
    {
     "data": {
      "text/html": [
       "<div>\n",
       "<style scoped>\n",
       "    .dataframe tbody tr th:only-of-type {\n",
       "        vertical-align: middle;\n",
       "    }\n",
       "\n",
       "    .dataframe tbody tr th {\n",
       "        vertical-align: top;\n",
       "    }\n",
       "\n",
       "    .dataframe thead th {\n",
       "        text-align: right;\n",
       "    }\n",
       "</style>\n",
       "<table border=\"1\" class=\"dataframe\">\n",
       "  <thead>\n",
       "    <tr style=\"text-align: right;\">\n",
       "      <th></th>\n",
       "      <th>gender</th>\n",
       "      <th>age</th>\n",
       "      <th>hypertension</th>\n",
       "      <th>heart_disease</th>\n",
       "      <th>ever_married</th>\n",
       "      <th>work_type</th>\n",
       "      <th>Residence_type</th>\n",
       "      <th>avg_glucose_level</th>\n",
       "      <th>bmi</th>\n",
       "      <th>smoking_status</th>\n",
       "      <th>stroke</th>\n",
       "    </tr>\n",
       "  </thead>\n",
       "  <tbody>\n",
       "    <tr>\n",
       "      <th>0</th>\n",
       "      <td>0</td>\n",
       "      <td>67.0</td>\n",
       "      <td>0</td>\n",
       "      <td>1</td>\n",
       "      <td>1</td>\n",
       "      <td>3</td>\n",
       "      <td>1</td>\n",
       "      <td>228.69</td>\n",
       "      <td>36.6</td>\n",
       "      <td>formerly smoked</td>\n",
       "      <td>1</td>\n",
       "    </tr>\n",
       "    <tr>\n",
       "      <th>1</th>\n",
       "      <td>0</td>\n",
       "      <td>80.0</td>\n",
       "      <td>0</td>\n",
       "      <td>1</td>\n",
       "      <td>1</td>\n",
       "      <td>3</td>\n",
       "      <td>0</td>\n",
       "      <td>105.92</td>\n",
       "      <td>32.5</td>\n",
       "      <td>never smoked</td>\n",
       "      <td>1</td>\n",
       "    </tr>\n",
       "    <tr>\n",
       "      <th>2</th>\n",
       "      <td>1</td>\n",
       "      <td>49.0</td>\n",
       "      <td>0</td>\n",
       "      <td>0</td>\n",
       "      <td>1</td>\n",
       "      <td>3</td>\n",
       "      <td>1</td>\n",
       "      <td>171.23</td>\n",
       "      <td>34.4</td>\n",
       "      <td>smokes</td>\n",
       "      <td>1</td>\n",
       "    </tr>\n",
       "    <tr>\n",
       "      <th>3</th>\n",
       "      <td>1</td>\n",
       "      <td>79.0</td>\n",
       "      <td>1</td>\n",
       "      <td>0</td>\n",
       "      <td>1</td>\n",
       "      <td>2</td>\n",
       "      <td>0</td>\n",
       "      <td>174.12</td>\n",
       "      <td>24.0</td>\n",
       "      <td>never smoked</td>\n",
       "      <td>1</td>\n",
       "    </tr>\n",
       "    <tr>\n",
       "      <th>4</th>\n",
       "      <td>0</td>\n",
       "      <td>81.0</td>\n",
       "      <td>0</td>\n",
       "      <td>0</td>\n",
       "      <td>1</td>\n",
       "      <td>3</td>\n",
       "      <td>1</td>\n",
       "      <td>186.21</td>\n",
       "      <td>29.0</td>\n",
       "      <td>formerly smoked</td>\n",
       "      <td>1</td>\n",
       "    </tr>\n",
       "  </tbody>\n",
       "</table>\n",
       "</div>"
      ],
      "text/plain": [
       "   gender   age  hypertension  heart_disease  ever_married  work_type  \\\n",
       "0       0  67.0             0              1             1          3   \n",
       "1       0  80.0             0              1             1          3   \n",
       "2       1  49.0             0              0             1          3   \n",
       "3       1  79.0             1              0             1          2   \n",
       "4       0  81.0             0              0             1          3   \n",
       "\n",
       "   Residence_type  avg_glucose_level   bmi   smoking_status  stroke  \n",
       "0               1             228.69  36.6  formerly smoked       1  \n",
       "1               0             105.92  32.5     never smoked       1  \n",
       "2               1             171.23  34.4           smokes       1  \n",
       "3               0             174.12  24.0     never smoked       1  \n",
       "4               1             186.21  29.0  formerly smoked       1  "
      ]
     },
     "execution_count": 19,
     "metadata": {},
     "output_type": "execute_result"
    }
   ],
   "source": [
    "df.head()"
   ]
  },
  {
   "cell_type": "code",
   "execution_count": 20,
   "metadata": {},
   "outputs": [
    {
     "name": "stdout",
     "output_type": "stream",
     "text": [
      "<class 'pandas.core.frame.DataFrame'>\n",
      "RangeIndex: 4981 entries, 0 to 4980\n",
      "Data columns (total 11 columns):\n",
      " #   Column             Non-Null Count  Dtype  \n",
      "---  ------             --------------  -----  \n",
      " 0   gender             4981 non-null   int64  \n",
      " 1   age                4981 non-null   float64\n",
      " 2   hypertension       4981 non-null   int64  \n",
      " 3   heart_disease      4981 non-null   int64  \n",
      " 4   ever_married       4981 non-null   int64  \n",
      " 5   work_type          4981 non-null   int64  \n",
      " 6   Residence_type     4981 non-null   int64  \n",
      " 7   avg_glucose_level  4981 non-null   float64\n",
      " 8   bmi                4981 non-null   float64\n",
      " 9   smoking_status     4981 non-null   object \n",
      " 10  stroke             4981 non-null   int64  \n",
      "dtypes: float64(3), int64(7), object(1)\n",
      "memory usage: 428.2+ KB\n"
     ]
    }
   ],
   "source": [
    "df.info()"
   ]
  },
  {
   "cell_type": "code",
   "execution_count": 21,
   "metadata": {},
   "outputs": [
    {
     "data": {
      "text/plain": [
       "never smoked       1838\n",
       "Unknown            1500\n",
       "formerly smoked     867\n",
       "smokes              776\n",
       "Name: smoking_status, dtype: int64"
      ]
     },
     "execution_count": 21,
     "metadata": {},
     "output_type": "execute_result"
    }
   ],
   "source": [
    "df[\"smoking_status\"].value_counts()"
   ]
  },
  {
   "cell_type": "code",
   "execution_count": 22,
   "metadata": {},
   "outputs": [],
   "source": [
    "df[\"smoking_status\"] = df[\"smoking_status\"].map({\"never smoked\":0,\"Unknown\":1,\"formerly smoked\":2,\"smokes\":3})"
   ]
  },
  {
   "cell_type": "code",
   "execution_count": 23,
   "metadata": {},
   "outputs": [
    {
     "name": "stdout",
     "output_type": "stream",
     "text": [
      "<class 'pandas.core.frame.DataFrame'>\n",
      "RangeIndex: 4981 entries, 0 to 4980\n",
      "Data columns (total 11 columns):\n",
      " #   Column             Non-Null Count  Dtype  \n",
      "---  ------             --------------  -----  \n",
      " 0   gender             4981 non-null   int64  \n",
      " 1   age                4981 non-null   float64\n",
      " 2   hypertension       4981 non-null   int64  \n",
      " 3   heart_disease      4981 non-null   int64  \n",
      " 4   ever_married       4981 non-null   int64  \n",
      " 5   work_type          4981 non-null   int64  \n",
      " 6   Residence_type     4981 non-null   int64  \n",
      " 7   avg_glucose_level  4981 non-null   float64\n",
      " 8   bmi                4981 non-null   float64\n",
      " 9   smoking_status     4981 non-null   int64  \n",
      " 10  stroke             4981 non-null   int64  \n",
      "dtypes: float64(3), int64(8)\n",
      "memory usage: 428.2 KB\n"
     ]
    }
   ],
   "source": [
    "df.info()"
   ]
  },
  {
   "cell_type": "code",
   "execution_count": 24,
   "metadata": {},
   "outputs": [
    {
     "data": {
      "text/plain": [
       "<AxesSubplot:>"
      ]
     },
     "execution_count": 24,
     "metadata": {},
     "output_type": "execute_result"
    },
    {
     "data": {
      "image/png": "[encoded data removed]",
      "text/plain": [
       "<Figure size 864x576 with 2 Axes>"
      ]
     },
     "metadata": {
      "needs_background": "light"
     },
     "output_type": "display_data"
    }
   ],
   "source": [
    "plt.figure(figsize=(12,8))\n",
    "sns.heatmap(df.corr(),annot=True)"
   ]
  },
  {
   "cell_type": "code",
   "execution_count": 25,
   "metadata": {},
   "outputs": [
    {
     "data": {
      "text/plain": [
       "Index(['gender', 'age', 'hypertension', 'heart_disease', 'ever_married',\n",
       "       'work_type', 'Residence_type', 'avg_glucose_level', 'bmi',\n",
       "       'smoking_status', 'stroke'],\n",
       "      dtype='object')"
      ]
     },
     "execution_count": 25,
     "metadata": {},
     "output_type": "execute_result"
    }
   ],
   "source": [
    "df.columns"
   ]
  },
  {
   "cell_type": "code",
   "execution_count": 26,
   "metadata": {},
   "outputs": [],
   "source": [
    "df1 = df.drop([\"gender\",\"ever_married\"],axis=1)"
   ]
  },
  {
   "cell_type": "code",
   "execution_count": 27,
   "metadata": {},
   "outputs": [
    {
     "data": {
      "text/plain": [
       "Index(['age', 'hypertension', 'heart_disease', 'work_type', 'Residence_type',\n",
       "       'avg_glucose_level', 'bmi', 'smoking_status', 'stroke'],\n",
       "      dtype='object')"
      ]
     },
     "execution_count": 27,
     "metadata": {},
     "output_type": "execute_result"
    }
   ],
   "source": [
    "df1.columns"
   ]
  },
  {
   "cell_type": "code",
   "execution_count": 28,
   "metadata": {},
   "outputs": [
    {
     "data": {
      "text/html": [
       "<div>\n",
       "<style scoped>\n",
       "    .dataframe tbody tr th:only-of-type {\n",
       "        vertical-align: middle;\n",
       "    }\n",
       "\n",
       "    .dataframe tbody tr th {\n",
       "        vertical-align: top;\n",
       "    }\n",
       "\n",
       "    .dataframe thead th {\n",
       "        text-align: right;\n",
       "    }\n",
       "</style>\n",
       "<table border=\"1\" class=\"dataframe\">\n",
       "  <thead>\n",
       "    <tr style=\"text-align: right;\">\n",
       "      <th></th>\n",
       "      <th>age</th>\n",
       "      <th>hypertension</th>\n",
       "      <th>heart_disease</th>\n",
       "      <th>work_type</th>\n",
       "      <th>Residence_type</th>\n",
       "      <th>avg_glucose_level</th>\n",
       "      <th>bmi</th>\n",
       "      <th>smoking_status</th>\n",
       "      <th>stroke</th>\n",
       "    </tr>\n",
       "  </thead>\n",
       "  <tbody>\n",
       "    <tr>\n",
       "      <th>0</th>\n",
       "      <td>67.0</td>\n",
       "      <td>0</td>\n",
       "      <td>1</td>\n",
       "      <td>3</td>\n",
       "      <td>1</td>\n",
       "      <td>228.69</td>\n",
       "      <td>36.6</td>\n",
       "      <td>2</td>\n",
       "      <td>1</td>\n",
       "    </tr>\n",
       "    <tr>\n",
       "      <th>1</th>\n",
       "      <td>80.0</td>\n",
       "      <td>0</td>\n",
       "      <td>1</td>\n",
       "      <td>3</td>\n",
       "      <td>0</td>\n",
       "      <td>105.92</td>\n",
       "      <td>32.5</td>\n",
       "      <td>0</td>\n",
       "      <td>1</td>\n",
       "    </tr>\n",
       "    <tr>\n",
       "      <th>2</th>\n",
       "      <td>49.0</td>\n",
       "      <td>0</td>\n",
       "      <td>0</td>\n",
       "      <td>3</td>\n",
       "      <td>1</td>\n",
       "      <td>171.23</td>\n",
       "      <td>34.4</td>\n",
       "      <td>3</td>\n",
       "      <td>1</td>\n",
       "    </tr>\n",
       "    <tr>\n",
       "      <th>3</th>\n",
       "      <td>79.0</td>\n",
       "      <td>1</td>\n",
       "      <td>0</td>\n",
       "      <td>2</td>\n",
       "      <td>0</td>\n",
       "      <td>174.12</td>\n",
       "      <td>24.0</td>\n",
       "      <td>0</td>\n",
       "      <td>1</td>\n",
       "    </tr>\n",
       "    <tr>\n",
       "      <th>4</th>\n",
       "      <td>81.0</td>\n",
       "      <td>0</td>\n",
       "      <td>0</td>\n",
       "      <td>3</td>\n",
       "      <td>1</td>\n",
       "      <td>186.21</td>\n",
       "      <td>29.0</td>\n",
       "      <td>2</td>\n",
       "      <td>1</td>\n",
       "    </tr>\n",
       "  </tbody>\n",
       "</table>\n",
       "</div>"
      ],
      "text/plain": [
       "    age  hypertension  heart_disease  work_type  Residence_type  \\\n",
       "0  67.0             0              1          3               1   \n",
       "1  80.0             0              1          3               0   \n",
       "2  49.0             0              0          3               1   \n",
       "3  79.0             1              0          2               0   \n",
       "4  81.0             0              0          3               1   \n",
       "\n",
       "   avg_glucose_level   bmi  smoking_status  stroke  \n",
       "0             228.69  36.6               2       1  \n",
       "1             105.92  32.5               0       1  \n",
       "2             171.23  34.4               3       1  \n",
       "3             174.12  24.0               0       1  \n",
       "4             186.21  29.0               2       1  "
      ]
     },
     "execution_count": 28,
     "metadata": {},
     "output_type": "execute_result"
    }
   ],
   "source": [
    "df1.head()"
   ]
  },
  {
   "cell_type": "code",
   "execution_count": 29,
   "metadata": {},
   "outputs": [],
   "source": [
    "from sklearn.preprocessing import StandardScaler\n",
    "scaler = StandardScaler()\n",
    "df1[[\"age\",\"avg_glucose_level\",\"bmi\"]] = scaler.fit_transform(df1[[\"age\",\"avg_glucose_level\",\"bmi\"]])"
   ]
  },
  {
   "cell_type": "code",
   "execution_count": 30,
   "metadata": {},
   "outputs": [
    {
     "data": {
      "text/plain": [
       "pandas.core.frame.DataFrame"
      ]
     },
     "execution_count": 30,
     "metadata": {},
     "output_type": "execute_result"
    }
   ],
   "source": [
    "type(df1)"
   ]
  },
  {
   "cell_type": "code",
   "execution_count": 31,
   "metadata": {},
   "outputs": [
    {
     "data": {
      "text/html": [
       "<div>\n",
       "<style scoped>\n",
       "    .dataframe tbody tr th:only-of-type {\n",
       "        vertical-align: middle;\n",
       "    }\n",
       "\n",
       "    .dataframe tbody tr th {\n",
       "        vertical-align: top;\n",
       "    }\n",
       "\n",
       "    .dataframe thead th {\n",
       "        text-align: right;\n",
       "    }\n",
       "</style>\n",
       "<table border=\"1\" class=\"dataframe\">\n",
       "  <thead>\n",
       "    <tr style=\"text-align: right;\">\n",
       "      <th></th>\n",
       "      <th>age</th>\n",
       "      <th>hypertension</th>\n",
       "      <th>heart_disease</th>\n",
       "      <th>work_type</th>\n",
       "      <th>Residence_type</th>\n",
       "      <th>avg_glucose_level</th>\n",
       "      <th>bmi</th>\n",
       "      <th>smoking_status</th>\n",
       "      <th>stroke</th>\n",
       "    </tr>\n",
       "  </thead>\n",
       "  <tbody>\n",
       "    <tr>\n",
       "      <th>0</th>\n",
       "      <td>1.040584</td>\n",
       "      <td>0</td>\n",
       "      <td>1</td>\n",
       "      <td>3</td>\n",
       "      <td>1</td>\n",
       "      <td>2.723411</td>\n",
       "      <td>1.193238</td>\n",
       "      <td>2</td>\n",
       "      <td>1</td>\n",
       "    </tr>\n",
       "    <tr>\n",
       "      <th>1</th>\n",
       "      <td>1.614270</td>\n",
       "      <td>0</td>\n",
       "      <td>1</td>\n",
       "      <td>3</td>\n",
       "      <td>0</td>\n",
       "      <td>-0.000523</td>\n",
       "      <td>0.589390</td>\n",
       "      <td>0</td>\n",
       "      <td>1</td>\n",
       "    </tr>\n",
       "    <tr>\n",
       "      <th>2</th>\n",
       "      <td>0.246250</td>\n",
       "      <td>0</td>\n",
       "      <td>0</td>\n",
       "      <td>3</td>\n",
       "      <td>1</td>\n",
       "      <td>1.448529</td>\n",
       "      <td>0.869222</td>\n",
       "      <td>3</td>\n",
       "      <td>1</td>\n",
       "    </tr>\n",
       "    <tr>\n",
       "      <th>3</th>\n",
       "      <td>1.570141</td>\n",
       "      <td>1</td>\n",
       "      <td>0</td>\n",
       "      <td>2</td>\n",
       "      <td>0</td>\n",
       "      <td>1.512650</td>\n",
       "      <td>-0.662492</td>\n",
       "      <td>0</td>\n",
       "      <td>1</td>\n",
       "    </tr>\n",
       "    <tr>\n",
       "      <th>4</th>\n",
       "      <td>1.658400</td>\n",
       "      <td>0</td>\n",
       "      <td>0</td>\n",
       "      <td>3</td>\n",
       "      <td>1</td>\n",
       "      <td>1.780895</td>\n",
       "      <td>0.073909</td>\n",
       "      <td>2</td>\n",
       "      <td>1</td>\n",
       "    </tr>\n",
       "  </tbody>\n",
       "</table>\n",
       "</div>"
      ],
      "text/plain": [
       "        age  hypertension  heart_disease  work_type  Residence_type  \\\n",
       "0  1.040584             0              1          3               1   \n",
       "1  1.614270             0              1          3               0   \n",
       "2  0.246250             0              0          3               1   \n",
       "3  1.570141             1              0          2               0   \n",
       "4  1.658400             0              0          3               1   \n",
       "\n",
       "   avg_glucose_level       bmi  smoking_status  stroke  \n",
       "0           2.723411  1.193238               2       1  \n",
       "1          -0.000523  0.589390               0       1  \n",
       "2           1.448529  0.869222               3       1  \n",
       "3           1.512650 -0.662492               0       1  \n",
       "4           1.780895  0.073909               2       1  "
      ]
     },
     "execution_count": 31,
     "metadata": {},
     "output_type": "execute_result"
    }
   ],
   "source": [
    "df1.head()"
   ]
  },
  {
   "cell_type": "code",
   "execution_count": 32,
   "metadata": {},
   "outputs": [],
   "source": [
    "X = df1.drop([\"stroke\"],axis=1)"
   ]
  },
  {
   "cell_type": "code",
   "execution_count": 33,
   "metadata": {},
   "outputs": [],
   "source": [
    "Y = df1[\"stroke\"]"
   ]
  },
  {
   "cell_type": "code",
   "execution_count": 34,
   "metadata": {},
   "outputs": [
    {
     "data": {
      "text/html": [
       "<div>\n",
       "<style scoped>\n",
       "    .dataframe tbody tr th:only-of-type {\n",
       "        vertical-align: middle;\n",
       "    }\n",
       "\n",
       "    .dataframe tbody tr th {\n",
       "        vertical-align: top;\n",
       "    }\n",
       "\n",
       "    .dataframe thead th {\n",
       "        text-align: right;\n",
       "    }\n",
       "</style>\n",
       "<table border=\"1\" class=\"dataframe\">\n",
       "  <thead>\n",
       "    <tr style=\"text-align: right;\">\n",
       "      <th></th>\n",
       "      <th>age</th>\n",
       "      <th>hypertension</th>\n",
       "      <th>heart_disease</th>\n",
       "      <th>work_type</th>\n",
       "      <th>Residence_type</th>\n",
       "      <th>avg_glucose_level</th>\n",
       "      <th>bmi</th>\n",
       "      <th>smoking_status</th>\n",
       "    </tr>\n",
       "  </thead>\n",
       "  <tbody>\n",
       "    <tr>\n",
       "      <th>0</th>\n",
       "      <td>1.040584</td>\n",
       "      <td>0</td>\n",
       "      <td>1</td>\n",
       "      <td>3</td>\n",
       "      <td>1</td>\n",
       "      <td>2.723411</td>\n",
       "      <td>1.193238</td>\n",
       "      <td>2</td>\n",
       "    </tr>\n",
       "    <tr>\n",
       "      <th>1</th>\n",
       "      <td>1.614270</td>\n",
       "      <td>0</td>\n",
       "      <td>1</td>\n",
       "      <td>3</td>\n",
       "      <td>0</td>\n",
       "      <td>-0.000523</td>\n",
       "      <td>0.589390</td>\n",
       "      <td>0</td>\n",
       "    </tr>\n",
       "    <tr>\n",
       "      <th>2</th>\n",
       "      <td>0.246250</td>\n",
       "      <td>0</td>\n",
       "      <td>0</td>\n",
       "      <td>3</td>\n",
       "      <td>1</td>\n",
       "      <td>1.448529</td>\n",
       "      <td>0.869222</td>\n",
       "      <td>3</td>\n",
       "    </tr>\n",
       "    <tr>\n",
       "      <th>3</th>\n",
       "      <td>1.570141</td>\n",
       "      <td>1</td>\n",
       "      <td>0</td>\n",
       "      <td>2</td>\n",
       "      <td>0</td>\n",
       "      <td>1.512650</td>\n",
       "      <td>-0.662492</td>\n",
       "      <td>0</td>\n",
       "    </tr>\n",
       "    <tr>\n",
       "      <th>4</th>\n",
       "      <td>1.658400</td>\n",
       "      <td>0</td>\n",
       "      <td>0</td>\n",
       "      <td>3</td>\n",
       "      <td>1</td>\n",
       "      <td>1.780895</td>\n",
       "      <td>0.073909</td>\n",
       "      <td>2</td>\n",
       "    </tr>\n",
       "  </tbody>\n",
       "</table>\n",
       "</div>"
      ],
      "text/plain": [
       "        age  hypertension  heart_disease  work_type  Residence_type  \\\n",
       "0  1.040584             0              1          3               1   \n",
       "1  1.614270             0              1          3               0   \n",
       "2  0.246250             0              0          3               1   \n",
       "3  1.570141             1              0          2               0   \n",
       "4  1.658400             0              0          3               1   \n",
       "\n",
       "   avg_glucose_level       bmi  smoking_status  \n",
       "0           2.723411  1.193238               2  \n",
       "1          -0.000523  0.589390               0  \n",
       "2           1.448529  0.869222               3  \n",
       "3           1.512650 -0.662492               0  \n",
       "4           1.780895  0.073909               2  "
      ]
     },
     "execution_count": 34,
     "metadata": {},
     "output_type": "execute_result"
    }
   ],
   "source": [
    "X.head()"
   ]
  },
  {
   "cell_type": "code",
   "execution_count": 35,
   "metadata": {},
   "outputs": [
    {
     "data": {
      "text/plain": [
       "0    1\n",
       "1    1\n",
       "2    1\n",
       "3    1\n",
       "4    1\n",
       "Name: stroke, dtype: int64"
      ]
     },
     "execution_count": 35,
     "metadata": {},
     "output_type": "execute_result"
    }
   ],
   "source": [
    "Y.head()"
   ]
  },
  {
   "cell_type": "code",
   "execution_count": 36,
   "metadata": {},
   "outputs": [
    {
     "name": "stdout",
     "output_type": "stream",
     "text": [
      "Shape of independent features: - (4981, 8) \n",
      "Shape of dependent features: - (4981,)\n"
     ]
    }
   ],
   "source": [
    "print(\"Shape of independent features: -\",X.shape,\"\\nShape of dependent features: -\",Y.shape)"
   ]
  },
  {
   "cell_type": "code",
   "execution_count": 37,
   "metadata": {},
   "outputs": [
    {
     "data": {
      "text/html": [
       "<div>\n",
       "<style scoped>\n",
       "    .dataframe tbody tr th:only-of-type {\n",
       "        vertical-align: middle;\n",
       "    }\n",
       "\n",
       "    .dataframe tbody tr th {\n",
       "        vertical-align: top;\n",
       "    }\n",
       "\n",
       "    .dataframe thead th {\n",
       "        text-align: right;\n",
       "    }\n",
       "</style>\n",
       "<table border=\"1\" class=\"dataframe\">\n",
       "  <thead>\n",
       "    <tr style=\"text-align: right;\">\n",
       "      <th></th>\n",
       "      <th>age</th>\n",
       "      <th>hypertension</th>\n",
       "      <th>heart_disease</th>\n",
       "      <th>work_type</th>\n",
       "      <th>Residence_type</th>\n",
       "      <th>avg_glucose_level</th>\n",
       "      <th>bmi</th>\n",
       "      <th>smoking_status</th>\n",
       "      <th>stroke</th>\n",
       "    </tr>\n",
       "  </thead>\n",
       "  <tbody>\n",
       "    <tr>\n",
       "      <th>0</th>\n",
       "      <td>1.040584</td>\n",
       "      <td>0</td>\n",
       "      <td>1</td>\n",
       "      <td>3</td>\n",
       "      <td>1</td>\n",
       "      <td>2.723411</td>\n",
       "      <td>1.193238</td>\n",
       "      <td>2</td>\n",
       "      <td>1</td>\n",
       "    </tr>\n",
       "    <tr>\n",
       "      <th>1</th>\n",
       "      <td>1.614270</td>\n",
       "      <td>0</td>\n",
       "      <td>1</td>\n",
       "      <td>3</td>\n",
       "      <td>0</td>\n",
       "      <td>-0.000523</td>\n",
       "      <td>0.589390</td>\n",
       "      <td>0</td>\n",
       "      <td>1</td>\n",
       "    </tr>\n",
       "    <tr>\n",
       "      <th>2</th>\n",
       "      <td>0.246250</td>\n",
       "      <td>0</td>\n",
       "      <td>0</td>\n",
       "      <td>3</td>\n",
       "      <td>1</td>\n",
       "      <td>1.448529</td>\n",
       "      <td>0.869222</td>\n",
       "      <td>3</td>\n",
       "      <td>1</td>\n",
       "    </tr>\n",
       "    <tr>\n",
       "      <th>3</th>\n",
       "      <td>1.570141</td>\n",
       "      <td>1</td>\n",
       "      <td>0</td>\n",
       "      <td>2</td>\n",
       "      <td>0</td>\n",
       "      <td>1.512650</td>\n",
       "      <td>-0.662492</td>\n",
       "      <td>0</td>\n",
       "      <td>1</td>\n",
       "    </tr>\n",
       "    <tr>\n",
       "      <th>4</th>\n",
       "      <td>1.658400</td>\n",
       "      <td>0</td>\n",
       "      <td>0</td>\n",
       "      <td>3</td>\n",
       "      <td>1</td>\n",
       "      <td>1.780895</td>\n",
       "      <td>0.073909</td>\n",
       "      <td>2</td>\n",
       "      <td>1</td>\n",
       "    </tr>\n",
       "    <tr>\n",
       "      <th>...</th>\n",
       "      <td>...</td>\n",
       "      <td>...</td>\n",
       "      <td>...</td>\n",
       "      <td>...</td>\n",
       "      <td>...</td>\n",
       "      <td>...</td>\n",
       "      <td>...</td>\n",
       "      <td>...</td>\n",
       "      <td>...</td>\n",
       "    </tr>\n",
       "    <tr>\n",
       "      <th>4976</th>\n",
       "      <td>-0.106788</td>\n",
       "      <td>0</td>\n",
       "      <td>0</td>\n",
       "      <td>3</td>\n",
       "      <td>0</td>\n",
       "      <td>-0.794162</td>\n",
       "      <td>0.191733</td>\n",
       "      <td>2</td>\n",
       "      <td>0</td>\n",
       "    </tr>\n",
       "    <tr>\n",
       "      <th>4977</th>\n",
       "      <td>-0.150917</td>\n",
       "      <td>0</td>\n",
       "      <td>0</td>\n",
       "      <td>3</td>\n",
       "      <td>1</td>\n",
       "      <td>1.890500</td>\n",
       "      <td>0.383197</td>\n",
       "      <td>3</td>\n",
       "      <td>0</td>\n",
       "    </tr>\n",
       "    <tr>\n",
       "      <th>4978</th>\n",
       "      <td>0.069731</td>\n",
       "      <td>1</td>\n",
       "      <td>0</td>\n",
       "      <td>1</td>\n",
       "      <td>0</td>\n",
       "      <td>-0.242364</td>\n",
       "      <td>0.486294</td>\n",
       "      <td>3</td>\n",
       "      <td>0</td>\n",
       "    </tr>\n",
       "    <tr>\n",
       "      <th>4979</th>\n",
       "      <td>-0.150917</td>\n",
       "      <td>0</td>\n",
       "      <td>0</td>\n",
       "      <td>3</td>\n",
       "      <td>0</td>\n",
       "      <td>-0.488199</td>\n",
       "      <td>0.221189</td>\n",
       "      <td>3</td>\n",
       "      <td>0</td>\n",
       "    </tr>\n",
       "    <tr>\n",
       "      <th>4980</th>\n",
       "      <td>1.614270</td>\n",
       "      <td>1</td>\n",
       "      <td>0</td>\n",
       "      <td>3</td>\n",
       "      <td>1</td>\n",
       "      <td>-0.492415</td>\n",
       "      <td>0.088637</td>\n",
       "      <td>0</td>\n",
       "      <td>0</td>\n",
       "    </tr>\n",
       "  </tbody>\n",
       "</table>\n",
       "<p>4981 rows × 9 columns</p>\n",
       "</div>"
      ],
      "text/plain": [
       "           age  hypertension  heart_disease  work_type  Residence_type  \\\n",
       "0     1.040584             0              1          3               1   \n",
       "1     1.614270             0              1          3               0   \n",
       "2     0.246250             0              0          3               1   \n",
       "3     1.570141             1              0          2               0   \n",
       "4     1.658400             0              0          3               1   \n",
       "...        ...           ...            ...        ...             ...   \n",
       "4976 -0.106788             0              0          3               0   \n",
       "4977 -0.150917             0              0          3               1   \n",
       "4978  0.069731             1              0          1               0   \n",
       "4979 -0.150917             0              0          3               0   \n",
       "4980  1.614270             1              0          3               1   \n",
       "\n",
       "      avg_glucose_level       bmi  smoking_status  stroke  \n",
       "0              2.723411  1.193238               2       1  \n",
       "1             -0.000523  0.589390               0       1  \n",
       "2              1.448529  0.869222               3       1  \n",
       "3              1.512650 -0.662492               0       1  \n",
       "4              1.780895  0.073909               2       1  \n",
       "...                 ...       ...             ...     ...  \n",
       "4976          -0.794162  0.191733               2       0  \n",
       "4977           1.890500  0.383197               3       0  \n",
       "4978          -0.242364  0.486294               3       0  \n",
       "4979          -0.488199  0.221189               3       0  \n",
       "4980          -0.492415  0.088637               0       0  \n",
       "\n",
       "[4981 rows x 9 columns]"
      ]
     },
     "execution_count": 37,
     "metadata": {},
     "output_type": "execute_result"
    }
   ],
   "source": [
    "df1"
   ]
  },
  {
   "cell_type": "code",
   "execution_count": 38,
   "metadata": {},
   "outputs": [
    {
     "name": "stdout",
     "output_type": "stream",
     "text": [
      "age                  2.853012e-18\n",
      "hypertension         9.616543e-02\n",
      "heart_disease        5.520980e-02\n",
      "work_type            2.174664e+00\n",
      "Residence_type       5.083317e-01\n",
      "avg_glucose_level    1.169735e-16\n",
      "bmi                 -6.219567e-16\n",
      "smoking_status       1.116643e+00\n",
      "stroke               4.978920e-02\n",
      "dtype: float64\n"
     ]
    }
   ],
   "source": [
    "print(df1.mean(axis=0))"
   ]
  },
  {
   "cell_type": "code",
   "execution_count": 39,
   "metadata": {},
   "outputs": [
    {
     "name": "stdout",
     "output_type": "stream",
     "text": [
      "age                  1.000100\n",
      "hypertension         0.294848\n",
      "heart_disease        0.228412\n",
      "work_type            1.101664\n",
      "Residence_type       0.499981\n",
      "avg_glucose_level    1.000100\n",
      "bmi                  1.000100\n",
      "smoking_status       1.073712\n",
      "stroke               0.217531\n",
      "dtype: float64\n"
     ]
    }
   ],
   "source": [
    "print(df1.std(axis=0))"
   ]
  },
  {
   "cell_type": "code",
   "execution_count": 40,
   "metadata": {},
   "outputs": [],
   "source": [
    "from sklearn.ensemble import RandomForestClassifier"
   ]
  },
  {
   "cell_type": "code",
   "execution_count": 41,
   "metadata": {},
   "outputs": [
    {
     "name": "stdout",
     "output_type": "stream",
     "text": [
      "Train:  [   0    1    3 ... 4977 4978 4979] Test:  [   2    4    6   21   22   26   28   36   42   44   45   47   49   57\n",
      "   62   68   71   78   86   87   91   94   95   99  105  122  128  130\n",
      "  144  153  154  157  158  164  165  171  172  173  176  180  189  192\n",
      "  208  226  229  233  234  237  243  252  259  262  264  269  272  290\n",
      "  294  299  305  308  310  320  330  331  334  336  340  347  349  351\n",
      "  365  366  369  376  380  382  385  388  389  391  395  412  414  416\n",
      "  425  429  430  432  433  443  446  448  452  458  461  462  464  479\n",
      "  481  482  483  492  496  511  531  543  547  549  555  559  562  567\n",
      "  571  572  575  576  577  578  588  603  612  614  617  625  626  628\n",
      "  629  630  638  643  649  650  656  677  685  686  696  699  700  704\n",
      "  714  715  716  723  730  731  733  735  738  739  741  746  748  754\n",
      "  769  770  781  782  785  789  794  795  799  801  802  803  807  808\n",
      "  809  811  812  824  832  846  849  852  857  861  870  872  879  880\n",
      "  889  890  896  900  901  904  915  926  928  933  967  972  978  981\n",
      "  986  992  996  998 1003 1006 1021 1022 1023 1027 1031 1032 1038 1040\n",
      " 1049 1066 1077 1078 1084 1089 1099 1103 1110 1111 1118 1126 1128 1131\n",
      " 1133 1135 1138 1144 1156 1159 1161 1163 1168 1171 1173 1178 1184 1187\n",
      " 1191 1193 1195 1197 1201 1203 1227 1233 1238 1241 1243 1246 1264 1270\n",
      " 1277 1284 1292 1295 1301 1302 1305 1306 1307 1314 1322 1324 1328 1330\n",
      " 1336 1341 1345 1355 1357 1358 1362 1367 1375 1384 1393 1399 1401 1402\n",
      " 1408 1409 1410 1426 1429 1441 1442 1444 1454 1462 1463 1467 1472 1485\n",
      " 1488 1489 1492 1493 1494 1495 1502 1504 1506 1509 1517 1523 1527 1530\n",
      " 1544 1546 1548 1554 1556 1561 1563 1565 1568 1571 1575 1578 1582 1586\n",
      " 1587 1591 1592 1597 1607 1609 1610 1612 1618 1619 1621 1630 1631 1641\n",
      " 1643 1658 1663 1669 1670 1674 1676 1679 1684 1687 1693 1696 1698 1701\n",
      " 1707 1709 1714 1716 1717 1720 1723 1724 1730 1734 1736 1738 1744 1747\n",
      " 1758 1768 1769 1771 1776 1777 1780 1786 1800 1802 1803 1813 1817 1823\n",
      " 1827 1831 1848 1856 1858 1864 1865 1868 1875 1877 1881 1883 1901 1909\n",
      " 1910 1914 1923 1926 1931 1940 1944 1948 1954 1955 1972 1982 1996 2003\n",
      " 2004 2007 2008 2009 2013 2019 2023 2025 2036 2043 2047 2050 2054 2055\n",
      " 2058 2060 2061 2068 2080 2082 2092 2096 2110 2122 2131 2135 2137 2143\n",
      " 2147 2149 2153 2158 2162 2168 2174 2183 2189 2193 2202 2208 2209 2216\n",
      " 2224 2231 2237 2240 2244 2245 2266 2277 2280 2286 2289 2299 2300 2303\n",
      " 2307 2310 2311 2320 2323 2325 2326 2329 2339 2346 2348 2349 2355 2362\n",
      " 2365 2372 2374 2376 2378 2399 2401 2410 2415 2420 2423 2427 2429 2433\n",
      " 2440 2462 2465 2469 2471 2476 2480 2494 2497 2504 2510 2514 2515 2521\n",
      " 2535 2536 2543 2545 2547 2554 2575 2576 2578 2579 2580 2595 2604 2631\n",
      " 2634 2642 2643 2656 2658 2665 2670 2676 2688 2692 2699 2705 2707 2716\n",
      " 2719 2729 2732 2744 2746 2748 2749 2752 2766 2770 2773 2782 2793 2799\n",
      " 2803 2804 2813 2816 2821 2822 2823 2832 2834 2839 2840 2847 2850 2859\n",
      " 2862 2872 2880 2881 2886 2889 2891 2893 2897 2901 2903 2910 2913 2919\n",
      " 2921 2927 2928 2930 2934 2956 2959 2964 2965 2971 2978 2979 2983 2984\n",
      " 3000 3014 3016 3019 3021 3024 3030 3038 3043 3046 3067 3068 3069 3082\n",
      " 3087 3099 3104 3106 3109 3110 3112 3116 3127 3135 3136 3140 3145 3147\n",
      " 3148 3152 3154 3155 3157 3159 3161 3166 3167 3173 3174 3175 3186 3197\n",
      " 3198 3200 3201 3210 3212 3218 3229 3230 3234 3236 3262 3266 3272 3287\n",
      " 3296 3299 3305 3306 3311 3312 3313 3314 3320 3324 3329 3332 3336 3342\n",
      " 3347 3359 3377 3383 3388 3391 3396 3404 3408 3411 3413 3419 3424 3428\n",
      " 3432 3434 3436 3438 3439 3440 3442 3443 3454 3458 3460 3462 3467 3469\n",
      " 3481 3484 3487 3500 3509 3513 3522 3526 3533 3538 3540 3552 3558 3563\n",
      " 3564 3571 3578 3579 3594 3596 3597 3598 3599 3606 3613 3622 3628 3631\n",
      " 3632 3637 3643 3646 3666 3668 3672 3683 3686 3687 3690 3694 3704 3707\n",
      " 3711 3713 3724 3725 3734 3737 3738 3739 3742 3747 3750 3765 3766 3768\n",
      " 3771 3772 3773 3780 3786 3789 3793 3796 3797 3801 3803 3806 3813 3820\n",
      " 3830 3833 3834 3836 3842 3845 3848 3850 3853 3854 3855 3856 3859 3861\n",
      " 3866 3871 3874 3876 3885 3893 3894 3901 3905 3908 3918 3919 3924 3926\n",
      " 3940 3942 3948 3951 3953 3954 3958 3959 3961 3965 3967 3971 3973 3985\n",
      " 3988 4000 4005 4007 4009 4011 4012 4013 4014 4015 4021 4022 4024 4034\n",
      " 4044 4045 4046 4050 4058 4066 4067 4069 4072 4075 4076 4083 4084 4089\n",
      " 4090 4099 4105 4109 4119 4122 4129 4130 4134 4139 4150 4151 4158 4163\n",
      " 4164 4169 4170 4171 4175 4179 4180 4183 4188 4189 4191 4194 4200 4202\n",
      " 4204 4209 4213 4215 4236 4238 4239 4275 4277 4279 4280 4289 4291 4294\n",
      " 4300 4302 4311 4326 4327 4330 4344 4347 4349 4355 4358 4359 4364 4370\n",
      " 4375 4384 4392 4394 4404 4413 4416 4444 4455 4465 4468 4470 4477 4481\n",
      " 4483 4484 4490 4496 4501 4512 4525 4529 4532 4539 4543 4545 4548 4553\n",
      " 4560 4562 4571 4572 4575 4582 4591 4599 4601 4603 4607 4616 4617 4624\n",
      " 4638 4642 4644 4654 4659 4661 4668 4673 4674 4681 4683 4685 4686 4690\n",
      " 4693 4696 4719 4724 4726 4728 4729 4732 4736 4737 4767 4777 4790 4791\n",
      " 4794 4806 4807 4809 4810 4818 4823 4826 4832 4839 4841 4843 4848 4850\n",
      " 4851 4852 4856 4857 4858 4861 4879 4880 4888 4894 4901 4903 4909 4914\n",
      " 4919 4922 4926 4927 4928 4933 4934 4936 4952 4955 4959 4967 4968 4972\n",
      " 4973 4974 4980]\n",
      "Train:  [   0    2    3 ... 4978 4979 4980] Test:  [   1   13   20   29   34   43   54   55   63   83   85   92  101  102\n",
      "  104  108  109  111  112  115  116  121  126  145  152  159  161  168\n",
      "  174  177  181  182  183  185  191  194  197  198  201  205  211  212\n",
      "  217  222  242  246  247  273  284  285  286  291  301  304  306  307\n",
      "  313  328  335  339  342  343  346  361  368  374  377  383  384  387\n",
      "  392  398  407  410  411  424  426  431  437  441  451  459  475  476\n",
      "  477  489  491  495  503  510  512  516  519  520  525  526  534  536\n",
      "  546  552  553  556  557  565  574  591  593  596  606  607  616  619\n",
      "  622  624  633  641  644  645  653  666  671  675  682  683  689  695\n",
      "  698  703  708  712  713  717  725  732  745  747  750  757  758  760\n",
      "  766  767  768  783  792  813  818  829  835  837  839  840  845  864\n",
      "  865  871  873  876  885  892  902  906  911  912  916  930  934  937\n",
      "  943  944  952  957  959  962  964  977  987  993  997 1001 1002 1005\n",
      " 1014 1017 1020 1025 1026 1047 1048 1054 1062 1069 1070 1074 1079 1086\n",
      " 1087 1094 1095 1098 1104 1112 1113 1123 1150 1152 1153 1154 1158 1170\n",
      " 1176 1177 1180 1181 1182 1198 1200 1204 1206 1210 1215 1217 1219 1221\n",
      " 1224 1229 1248 1249 1250 1252 1254 1262 1263 1276 1278 1299 1300 1304\n",
      " 1312 1317 1318 1327 1329 1337 1342 1347 1351 1361 1370 1371 1376 1383\n",
      " 1385 1392 1400 1411 1412 1416 1423 1427 1431 1434 1435 1437 1439 1440\n",
      " 1443 1451 1455 1466 1469 1470 1484 1490 1491 1496 1500 1508 1515 1528\n",
      " 1531 1535 1537 1547 1551 1552 1559 1560 1564 1567 1572 1574 1584 1594\n",
      " 1600 1606 1611 1614 1620 1629 1642 1649 1650 1667 1678 1680 1685 1686\n",
      " 1690 1702 1705 1706 1712 1721 1732 1735 1745 1748 1755 1759 1761 1767\n",
      " 1775 1785 1787 1790 1791 1794 1795 1799 1805 1806 1807 1814 1818 1828\n",
      " 1830 1836 1840 1851 1872 1876 1879 1882 1884 1885 1886 1889 1890 1891\n",
      " 1892 1893 1895 1896 1899 1902 1912 1916 1919 1921 1924 1929 1930 1933\n",
      " 1937 1943 1947 1960 1962 1966 1969 1973 1974 1975 1976 1981 1983 2001\n",
      " 2002 2006 2012 2016 2021 2024 2030 2031 2032 2035 2046 2056 2065 2070\n",
      " 2073 2077 2083 2086 2095 2103 2104 2109 2115 2130 2134 2139 2144 2146\n",
      " 2151 2154 2155 2169 2179 2181 2184 2185 2196 2203 2204 2205 2206 2214\n",
      " 2218 2222 2225 2227 2234 2239 2243 2247 2250 2251 2253 2271 2285 2288\n",
      " 2292 2298 2312 2318 2322 2338 2347 2352 2360 2371 2377 2381 2382 2383\n",
      " 2386 2390 2393 2395 2396 2402 2411 2412 2418 2430 2431 2443 2459 2466\n",
      " 2467 2468 2472 2473 2474 2493 2495 2499 2508 2511 2513 2516 2517 2519\n",
      " 2522 2527 2531 2533 2537 2556 2557 2558 2565 2566 2569 2585 2586 2587\n",
      " 2590 2591 2594 2611 2612 2614 2616 2623 2624 2625 2627 2636 2637 2641\n",
      " 2644 2648 2649 2657 2661 2664 2666 2672 2673 2685 2695 2704 2709 2712\n",
      " 2722 2723 2730 2737 2739 2741 2747 2775 2787 2788 2791 2797 2802 2819\n",
      " 2838 2842 2846 2852 2853 2855 2860 2866 2868 2871 2884 2895 2898 2899\n",
      " 2905 2911 2915 2916 2920 2922 2935 2937 2938 2940 2944 2946 2952 2957\n",
      " 2960 2961 2963 2968 2975 2982 2988 2991 2993 2994 2998 3002 3005 3018\n",
      " 3026 3036 3042 3044 3047 3049 3053 3057 3060 3070 3074 3077 3080 3088\n",
      " 3089 3091 3093 3096 3101 3105 3114 3115 3118 3119 3121 3124 3128 3131\n",
      " 3133 3150 3153 3158 3162 3163 3164 3170 3179 3181 3185 3188 3191 3196\n",
      " 3199 3202 3209 3215 3227 3232 3238 3247 3248 3249 3252 3253 3261 3269\n",
      " 3279 3281 3288 3289 3294 3304 3310 3315 3316 3318 3319 3322 3325 3326\n",
      " 3330 3331 3334 3344 3350 3351 3352 3355 3360 3362 3366 3378 3381 3386\n",
      " 3392 3393 3398 3406 3412 3420 3427 3435 3457 3459 3465 3466 3468 3472\n",
      " 3482 3486 3488 3494 3495 3501 3503 3508 3512 3518 3520 3523 3524 3531\n",
      " 3535 3536 3542 3549 3550 3551 3556 3559 3560 3572 3591 3593 3605 3612\n",
      " 3617 3619 3620 3624 3630 3639 3640 3642 3647 3650 3656 3661 3662 3665\n",
      " 3677 3679 3688 3695 3698 3708 3709 3710 3712 3721 3727 3730 3748 3751\n",
      " 3753 3761 3774 3776 3778 3782 3792 3794 3811 3812 3815 3822 3831 3832\n",
      " 3835 3837 3839 3844 3847 3849 3857 3860 3863 3864 3867 3868 3870 3879\n",
      " 3880 3882 3883 3886 3888 3896 3897 3899 3900 3909 3914 3915 3927 3932\n",
      " 3933 3944 3956 3968 3972 3975 3981 3987 3998 4006 4027 4028 4029 4033\n",
      " 4036 4042 4049 4054 4056 4057 4060 4063 4070 4077 4081 4085 4087 4093\n",
      " 4094 4102 4111 4113 4117 4121 4123 4124 4125 4137 4141 4142 4152 4153\n",
      " 4156 4166 4167 4168 4172 4173 4174 4186 4187 4193 4195 4206 4207 4218\n",
      " 4225 4230 4242 4247 4250 4252 4253 4257 4258 4260 4262 4264 4266 4268\n",
      " 4270 4273 4288 4296 4301 4303 4304 4317 4319 4323 4329 4332 4334 4335\n",
      " 4340 4346 4351 4353 4356 4357 4363 4381 4385 4387 4388 4391 4396 4398\n",
      " 4400 4402 4403 4406 4410 4419 4421 4423 4430 4433 4435 4438 4441 4445\n",
      " 4452 4453 4464 4467 4469 4475 4489 4491 4493 4497 4503 4504 4506 4510\n",
      " 4513 4520 4523 4540 4555 4556 4559 4563 4564 4567 4579 4580 4590 4593\n",
      " 4597 4604 4605 4606 4611 4619 4625 4626 4629 4634 4636 4637 4639 4640\n",
      " 4646 4648 4649 4653 4656 4658 4662 4665 4667 4670 4672 4677 4682 4687\n",
      " 4689 4692 4698 4699 4702 4706 4707 4712 4720 4721 4727 4731 4733 4740\n",
      " 4741 4745 4747 4766 4781 4785 4786 4792 4800 4801 4804 4808 4815 4819\n",
      " 4821 4845 4853 4854 4865 4866 4875 4877 4878 4882 4884 4886 4889 4891\n",
      " 4898 4904 4906 4910 4915 4923 4925 4929 4930 4938 4940 4946 4951 4957\n",
      " 4960 4965]\n",
      "Train:  [   0    1    2 ... 4977 4979 4980] Test:  [   5    9   12   16   18   23   25   27   33   38   50   52   65   73\n",
      "   74   75   76   80   88   89   96   97  100  120  132  135  136  138\n",
      "  140  141  143  148  149  151  155  160  162  163  167  169  188  195\n",
      "  203  209  215  216  219  220  221  224  228  238  239  241  244  255\n",
      "  258  260  266  268  271  275  277  279  289  295  300  321  322  324\n",
      "  325  329  344  348  352  358  359  363  372  378  396  404  406  409\n",
      "  418  422  427  435  440  445  449  455  456  466  485  486  487  493\n",
      "  498  499  504  508  513  518  521  528  530  532  540  541  544  548\n",
      "  551  580  584  585  592  594  595  597  598  604  605  608  610  618\n",
      "  620  634  639  640  646  648  651  652  655  657  662  664  665  676\n",
      "  688  690  691  692  702  724  726  728  734  743  752  759  761  762\n",
      "  776  777  779  780  784  793  804  806  810  815  819  822  827  833\n",
      "  834  841  844  850  853  856  863  867  869  874  875  878  882  887\n",
      "  888  891  894  898  899  903  905  909  913  917  918  919  922  923\n",
      "  924  938  941  942  945  946  955  958  963  969  974  975  985  988\n",
      "  991 1000 1007 1008 1011 1012 1015 1019 1033 1036 1039 1041 1042 1043\n",
      " 1056 1059 1061 1075 1080 1083 1090 1096 1100 1102 1116 1119 1132 1142\n",
      " 1146 1147 1149 1151 1155 1164 1175 1183 1202 1205 1225 1226 1230 1232\n",
      " 1236 1237 1245 1256 1257 1261 1265 1267 1271 1274 1281 1294 1303 1313\n",
      " 1316 1320 1321 1323 1325 1326 1332 1338 1340 1344 1346 1349 1366 1369\n",
      " 1380 1381 1390 1394 1397 1398 1404 1407 1415 1419 1420 1422 1424 1425\n",
      " 1428 1446 1447 1449 1456 1468 1476 1481 1498 1501 1503 1511 1519 1521\n",
      " 1526 1539 1543 1545 1550 1553 1562 1576 1579 1588 1589 1593 1599 1603\n",
      " 1604 1608 1624 1627 1628 1633 1635 1636 1638 1646 1647 1648 1651 1654\n",
      " 1659 1666 1682 1688 1691 1694 1722 1729 1739 1740 1742 1749 1750 1752\n",
      " 1757 1763 1764 1765 1773 1774 1778 1782 1783 1784 1789 1793 1804 1812\n",
      " 1833 1835 1837 1838 1842 1843 1854 1867 1869 1870 1888 1894 1898 1904\n",
      " 1905 1913 1918 1920 1925 1927 1934 1935 1946 1952 1964 1965 1968 1978\n",
      " 1984 1985 1986 1988 1989 1993 2005 2018 2029 2033 2037 2039 2044 2049\n",
      " 2057 2064 2066 2069 2075 2076 2079 2084 2089 2094 2097 2098 2111 2113\n",
      " 2117 2118 2121 2123 2125 2132 2133 2138 2142 2145 2157 2160 2161 2178\n",
      " 2180 2182 2188 2192 2194 2195 2210 2215 2219 2226 2229 2246 2252 2261\n",
      " 2264 2268 2276 2278 2291 2314 2316 2324 2327 2333 2340 2344 2350 2354\n",
      " 2357 2359 2366 2369 2370 2373 2375 2384 2387 2388 2392 2398 2400 2405\n",
      " 2407 2413 2419 2425 2428 2432 2434 2437 2451 2460 2478 2487 2488 2498\n",
      " 2507 2509 2512 2520 2524 2534 2541 2542 2546 2552 2562 2571 2573 2588\n",
      " 2589 2598 2603 2605 2606 2607 2619 2628 2629 2646 2652 2653 2655 2659\n",
      " 2678 2679 2687 2690 2701 2706 2714 2715 2717 2720 2721 2725 2731 2733\n",
      " 2734 2735 2736 2738 2740 2742 2743 2745 2753 2756 2758 2759 2760 2761\n",
      " 2764 2765 2767 2768 2769 2777 2778 2784 2789 2792 2796 2805 2810 2811\n",
      " 2814 2824 2827 2833 2841 2844 2849 2856 2870 2873 2878 2879 2883 2888\n",
      " 2892 2900 2914 2917 2926 2929 2933 2939 2943 2949 2951 2953 2954 2966\n",
      " 2967 2973 2976 2981 2996 2999 3006 3009 3010 3011 3013 3015 3023 3031\n",
      " 3037 3040 3041 3052 3054 3056 3058 3062 3065 3071 3073 3076 3085 3086\n",
      " 3090 3107 3108 3117 3122 3126 3129 3130 3137 3138 3141 3149 3168 3172\n",
      " 3176 3180 3182 3189 3192 3193 3194 3203 3213 3221 3223 3224 3225 3231\n",
      " 3237 3239 3242 3243 3244 3246 3251 3255 3257 3258 3264 3265 3270 3271\n",
      " 3276 3278 3283 3285 3293 3298 3300 3308 3339 3363 3369 3370 3372 3373\n",
      " 3376 3379 3382 3384 3385 3387 3395 3397 3399 3400 3405 3407 3415 3418\n",
      " 3425 3433 3444 3446 3447 3449 3452 3453 3455 3456 3461 3470 3480 3483\n",
      " 3493 3499 3506 3507 3511 3516 3519 3525 3529 3534 3547 3548 3555 3568\n",
      " 3573 3574 3581 3583 3584 3588 3590 3592 3595 3600 3603 3604 3614 3618\n",
      " 3623 3635 3638 3645 3648 3664 3670 3675 3676 3678 3680 3693 3697 3706\n",
      " 3716 3718 3726 3728 3733 3743 3745 3749 3755 3757 3764 3769 3781 3783\n",
      " 3784 3785 3795 3800 3804 3807 3816 3819 3821 3824 3825 3827 3846 3852\n",
      " 3858 3865 3872 3890 3903 3904 3910 3913 3921 3925 3929 3930 3935 3938\n",
      " 3939 3945 3946 3949 3952 3955 3957 3960 3962 3963 3964 3966 3979 3991\n",
      " 3992 3995 4001 4002 4019 4020 4026 4030 4037 4039 4041 4043 4047 4051\n",
      " 4055 4059 4062 4064 4071 4080 4091 4095 4097 4100 4103 4104 4110 4115\n",
      " 4120 4126 4131 4132 4135 4143 4146 4148 4149 4165 4176 4184 4185 4198\n",
      " 4205 4210 4214 4216 4217 4220 4221 4223 4224 4229 4235 4237 4240 4245\n",
      " 4246 4249 4254 4259 4281 4292 4305 4307 4309 4310 4312 4321 4322 4328\n",
      " 4331 4342 4354 4360 4365 4372 4379 4393 4397 4405 4407 4408 4411 4412\n",
      " 4417 4418 4422 4425 4426 4429 4431 4432 4434 4437 4440 4442 4443 4446\n",
      " 4447 4448 4457 4458 4460 4466 4480 4482 4487 4492 4495 4509 4511 4514\n",
      " 4516 4521 4522 4526 4533 4547 4549 4554 4573 4581 4583 4586 4588 4600\n",
      " 4610 4614 4615 4621 4627 4628 4635 4651 4652 4660 4666 4669 4671 4676\n",
      " 4684 4688 4704 4708 4709 4713 4717 4718 4722 4725 4735 4742 4744 4748\n",
      " 4752 4754 4756 4761 4763 4765 4772 4775 4779 4780 4787 4789 4797 4805\n",
      " 4812 4813 4828 4829 4833 4842 4849 4859 4862 4868 4869 4874 4887 4892\n",
      " 4896 4900 4907 4911 4917 4918 4920 4939 4942 4947 4950 4958 4963 4969\n",
      " 4970 4978]\n",
      "Train:  [   0    1    2 ... 4978 4979 4980] Test:  [   3    7    8   11   19   24   35   37   51   53   58   61   64   66\n",
      "   72   77   82   98  103  106  110  113  117  118  119  124  127  129\n",
      "  133  139  142  146  147  150  166  178  193  200  206  207  213  225\n",
      "  236  245  248  250  251  253  254  257  265  267  270  274  276  278\n",
      "  280  283  287  288  292  297  312  314  315  316  326  337  338  341\n",
      "  345  350  353  354  356  364  375  379  393  399  403  413  417  420\n",
      "  438  442  444  450  457  460  468  469  470  471  473  474  480  484\n",
      "  490  497  500  501  509  514  522  529  533  539  545  550  554  558\n",
      "  561  573  579  581  583  600  601  602  609  611  615  631  632  642\n",
      "  647  659  660  661  663  669  670  673  674  679  681  687  693  697\n",
      "  701  709  721  722  736  737  744  749  755  756  763  764  765  771\n",
      "  772  775  788  791  796  814  816  817  821  825  836  842  843  847\n",
      "  851  854  859  862  868  877  883  884  886  908  925  927  929  931\n",
      "  932  936  947  948  951  953  956  960  961  965  966  968  971  976\n",
      "  979  982  984  990  994  995 1004 1009 1010 1016 1018 1034 1035 1037\n",
      " 1044 1050 1052 1055 1057 1058 1060 1065 1071 1072 1073 1081 1082 1085\n",
      " 1092 1093 1097 1105 1107 1108 1114 1115 1117 1120 1124 1125 1130 1134\n",
      " 1137 1139 1148 1157 1160 1162 1165 1167 1169 1172 1186 1188 1189 1196\n",
      " 1199 1209 1211 1213 1216 1218 1222 1231 1234 1239 1240 1242 1255 1266\n",
      " 1273 1279 1282 1283 1286 1288 1291 1297 1298 1310 1331 1334 1335 1339\n",
      " 1348 1350 1352 1354 1359 1364 1365 1372 1378 1379 1382 1387 1389 1391\n",
      " 1395 1396 1403 1405 1421 1433 1436 1445 1450 1453 1459 1460 1461 1464\n",
      " 1465 1474 1475 1479 1480 1482 1486 1487 1497 1499 1505 1510 1513 1514\n",
      " 1516 1534 1540 1555 1557 1558 1569 1573 1585 1596 1598 1601 1613 1615\n",
      " 1616 1623 1625 1626 1632 1639 1640 1644 1652 1653 1655 1656 1665 1671\n",
      " 1673 1677 1689 1695 1699 1703 1713 1718 1725 1726 1727 1728 1731 1737\n",
      " 1741 1756 1766 1772 1788 1792 1798 1801 1809 1810 1811 1815 1816 1819\n",
      " 1820 1821 1822 1825 1826 1829 1832 1839 1841 1845 1849 1850 1866 1871\n",
      " 1873 1874 1880 1906 1907 1908 1915 1917 1936 1938 1949 1953 1957 1958\n",
      " 1959 1967 1970 1977 1979 1980 1987 1994 1998 1999 2000 2011 2014 2015\n",
      " 2026 2027 2028 2038 2042 2048 2051 2059 2062 2063 2071 2074 2078 2085\n",
      " 2087 2088 2090 2091 2100 2101 2112 2114 2119 2120 2124 2129 2140 2141\n",
      " 2148 2150 2156 2159 2164 2166 2172 2175 2187 2190 2191 2197 2201 2221\n",
      " 2228 2232 2238 2254 2257 2265 2270 2272 2273 2275 2281 2284 2287 2290\n",
      " 2294 2295 2296 2297 2304 2305 2306 2308 2309 2315 2317 2319 2321 2328\n",
      " 2332 2335 2353 2356 2361 2364 2380 2389 2404 2406 2408 2409 2436 2439\n",
      " 2441 2444 2445 2447 2449 2450 2452 2454 2455 2456 2457 2461 2463 2464\n",
      " 2470 2475 2481 2482 2483 2484 2491 2501 2502 2503 2518 2528 2532 2544\n",
      " 2549 2551 2553 2567 2572 2577 2581 2582 2583 2584 2592 2596 2597 2601\n",
      " 2608 2609 2620 2630 2633 2639 2640 2650 2654 2660 2663 2667 2668 2669\n",
      " 2675 2677 2680 2684 2691 2693 2694 2698 2702 2703 2713 2726 2750 2757\n",
      " 2772 2774 2776 2779 2780 2781 2783 2785 2790 2794 2800 2808 2812 2818\n",
      " 2820 2830 2831 2837 2843 2845 2848 2854 2858 2861 2863 2865 2867 2874\n",
      " 2876 2882 2887 2894 2896 2912 2924 2925 2932 2945 2947 2950 2955 2969\n",
      " 2985 2986 2987 2990 3003 3007 3008 3017 3025 3027 3034 3035 3045 3051\n",
      " 3059 3064 3083 3084 3097 3098 3100 3103 3111 3113 3120 3125 3142 3143\n",
      " 3144 3151 3156 3165 3169 3178 3183 3190 3216 3222 3226 3228 3245 3250\n",
      " 3256 3259 3268 3275 3277 3280 3282 3284 3290 3291 3297 3307 3317 3321\n",
      " 3327 3333 3340 3345 3346 3348 3357 3358 3365 3367 3368 3389 3390 3394\n",
      " 3401 3402 3416 3417 3422 3426 3429 3437 3441 3445 3451 3471 3474 3475\n",
      " 3476 3477 3478 3491 3492 3496 3498 3504 3505 3515 3521 3527 3539 3541\n",
      " 3543 3553 3561 3562 3565 3566 3567 3569 3575 3582 3586 3601 3602 3608\n",
      " 3609 3611 3625 3626 3627 3633 3636 3644 3649 3654 3657 3663 3667 3673\n",
      " 3674 3684 3691 3696 3699 3700 3703 3715 3719 3720 3732 3740 3741 3746\n",
      " 3752 3754 3758 3760 3762 3763 3767 3770 3777 3788 3790 3791 3799 3808\n",
      " 3809 3814 3817 3826 3828 3841 3843 3869 3873 3887 3891 3898 3907 3911\n",
      " 3912 3916 3920 3928 3931 3934 3936 3941 3943 3947 3969 3970 3974 3978\n",
      " 3980 3983 3984 3989 3994 3996 3997 3999 4003 4004 4010 4016 4018 4023\n",
      " 4031 4038 4052 4061 4065 4068 4073 4078 4086 4088 4092 4096 4098 4101\n",
      " 4106 4114 4118 4127 4136 4138 4147 4154 4161 4178 4190 4212 4219 4228\n",
      " 4232 4251 4256 4261 4263 4265 4267 4271 4274 4285 4286 4287 4293 4298\n",
      " 4299 4308 4316 4318 4320 4324 4337 4338 4339 4341 4343 4345 4348 4350\n",
      " 4361 4362 4366 4367 4369 4371 4373 4376 4377 4380 4382 4383 4386 4390\n",
      " 4399 4401 4414 4415 4420 4424 4427 4451 4456 4462 4463 4471 4473 4474\n",
      " 4476 4479 4485 4486 4494 4498 4502 4505 4508 4517 4527 4528 4530 4534\n",
      " 4535 4542 4552 4557 4566 4568 4569 4574 4576 4577 4578 4589 4592 4594\n",
      " 4598 4602 4609 4612 4618 4620 4623 4630 4632 4641 4650 4663 4679 4680\n",
      " 4694 4695 4703 4705 4710 4714 4730 4739 4749 4753 4755 4757 4760 4768\n",
      " 4770 4773 4782 4783 4793 4795 4796 4798 4799 4814 4816 4825 4831 4835\n",
      " 4838 4844 4847 4860 4863 4870 4883 4885 4890 4895 4905 4908 4912 4921\n",
      " 4924 4931 4937 4944 4945 4948 4949 4953 4954 4956 4961 4962 4964 4966\n",
      " 4971 4976]\n",
      "Train:  [   1    2    3 ... 4976 4978 4980] Test:  [   0   10   14   15   17   30   31   32   39   40   41   46   48   56\n",
      "   59   60   67   69   70   79   81   84   90   93  107  114  123  125\n",
      "  131  134  137  156  170  175  179  184  186  187  190  196  199  202\n",
      "  204  210  214  218  223  227  230  231  232  235  240  249  256  261\n",
      "  263  281  282  293  296  298  302  303  309  311  317  318  319  323\n",
      "  327  332  333  355  357  360  362  367  370  371  373  381  386  390\n",
      "  394  397  400  401  402  405  408  415  419  421  423  428  434  436\n",
      "  439  447  453  454  463  465  467  472  478  488  494  502  505  506\n",
      "  507  515  517  523  524  527  535  537  538  542  560  563  564  566\n",
      "  568  569  570  582  586  587  589  590  599  613  621  623  627  635\n",
      "  636  637  654  658  667  668  672  678  680  684  694  705  706  707\n",
      "  710  711  718  719  720  727  729  740  742  751  753  773  774  778\n",
      "  786  787  790  797  798  800  805  820  823  826  828  830  831  838\n",
      "  848  855  858  860  866  881  893  895  897  907  910  914  920  921\n",
      "  935  939  940  949  950  954  970  973  980  983  989  999 1013 1024\n",
      " 1028 1029 1030 1045 1046 1051 1053 1063 1064 1067 1068 1076 1088 1091\n",
      " 1101 1106 1109 1121 1122 1127 1129 1136 1140 1141 1143 1145 1166 1174\n",
      " 1179 1185 1190 1192 1194 1207 1208 1212 1214 1220 1223 1228 1235 1244\n",
      " 1247 1251 1253 1258 1259 1260 1268 1269 1272 1275 1280 1285 1287 1289\n",
      " 1290 1293 1296 1308 1309 1311 1315 1319 1333 1343 1353 1356 1360 1363\n",
      " 1368 1373 1374 1377 1386 1388 1406 1413 1414 1417 1418 1430 1432 1438\n",
      " 1448 1452 1457 1458 1471 1473 1477 1478 1483 1507 1512 1518 1520 1522\n",
      " 1524 1525 1529 1532 1533 1536 1538 1541 1542 1549 1566 1570 1577 1580\n",
      " 1581 1583 1590 1595 1602 1605 1617 1622 1634 1637 1645 1657 1660 1661\n",
      " 1662 1664 1668 1672 1675 1681 1683 1692 1697 1700 1704 1708 1710 1711\n",
      " 1715 1719 1733 1743 1746 1751 1753 1754 1760 1762 1770 1779 1781 1796\n",
      " 1797 1808 1824 1834 1844 1846 1847 1852 1853 1855 1857 1859 1860 1861\n",
      " 1862 1863 1878 1887 1897 1900 1903 1911 1922 1928 1932 1939 1941 1942\n",
      " 1945 1950 1951 1956 1961 1963 1971 1990 1991 1992 1995 1997 2010 2017\n",
      " 2020 2022 2034 2040 2041 2045 2052 2053 2067 2072 2081 2093 2099 2102\n",
      " 2105 2106 2107 2108 2116 2126 2127 2128 2136 2152 2163 2165 2167 2170\n",
      " 2171 2173 2176 2177 2186 2198 2199 2200 2207 2211 2212 2213 2217 2220\n",
      " 2223 2230 2233 2235 2236 2241 2242 2248 2249 2255 2256 2258 2259 2260\n",
      " 2262 2263 2267 2269 2274 2279 2282 2283 2293 2301 2302 2313 2330 2331\n",
      " 2334 2336 2337 2341 2342 2343 2345 2351 2358 2363 2367 2368 2379 2385\n",
      " 2391 2394 2397 2403 2414 2416 2417 2421 2422 2424 2426 2435 2438 2442\n",
      " 2446 2448 2453 2458 2477 2479 2485 2486 2489 2490 2492 2496 2500 2505\n",
      " 2506 2523 2525 2526 2529 2530 2538 2539 2540 2548 2550 2555 2559 2560\n",
      " 2561 2563 2564 2568 2570 2574 2593 2599 2600 2602 2610 2613 2615 2617\n",
      " 2618 2621 2622 2626 2632 2635 2638 2645 2647 2651 2662 2671 2674 2681\n",
      " 2682 2683 2686 2689 2696 2697 2700 2708 2710 2711 2718 2724 2727 2728\n",
      " 2751 2754 2755 2762 2763 2771 2786 2795 2798 2801 2806 2807 2809 2815\n",
      " 2817 2825 2826 2828 2829 2835 2836 2851 2857 2864 2869 2875 2877 2885\n",
      " 2890 2902 2904 2906 2907 2908 2909 2918 2923 2931 2936 2941 2942 2948\n",
      " 2958 2962 2970 2972 2974 2977 2980 2989 2992 2995 2997 3001 3004 3012\n",
      " 3020 3022 3028 3029 3032 3033 3039 3048 3050 3055 3061 3063 3066 3072\n",
      " 3075 3078 3079 3081 3092 3094 3095 3102 3123 3132 3134 3139 3146 3160\n",
      " 3171 3177 3184 3187 3195 3204 3205 3206 3207 3208 3211 3214 3217 3219\n",
      " 3220 3233 3235 3240 3241 3254 3260 3263 3267 3273 3274 3286 3292 3295\n",
      " 3301 3302 3303 3309 3323 3328 3335 3337 3338 3341 3343 3349 3353 3354\n",
      " 3356 3361 3364 3371 3374 3375 3380 3403 3409 3410 3414 3421 3423 3430\n",
      " 3431 3448 3450 3463 3464 3473 3479 3485 3489 3490 3497 3502 3510 3514\n",
      " 3517 3528 3530 3532 3537 3544 3545 3546 3554 3557 3570 3576 3577 3580\n",
      " 3585 3587 3589 3607 3610 3615 3616 3621 3629 3634 3641 3651 3652 3653\n",
      " 3655 3658 3659 3660 3669 3671 3681 3682 3685 3689 3692 3701 3702 3705\n",
      " 3714 3717 3722 3723 3729 3731 3735 3736 3744 3756 3759 3775 3779 3787\n",
      " 3798 3802 3805 3810 3818 3823 3829 3838 3840 3851 3862 3875 3877 3878\n",
      " 3881 3884 3889 3892 3895 3902 3906 3917 3922 3923 3937 3950 3976 3977\n",
      " 3982 3986 3990 3993 4008 4017 4025 4032 4035 4040 4048 4053 4074 4079\n",
      " 4082 4107 4108 4112 4116 4128 4133 4140 4144 4145 4155 4157 4159 4160\n",
      " 4162 4177 4181 4182 4192 4196 4197 4199 4201 4203 4208 4211 4222 4226\n",
      " 4227 4231 4233 4234 4241 4243 4244 4248 4255 4269 4272 4276 4278 4282\n",
      " 4283 4284 4290 4295 4297 4306 4313 4314 4315 4325 4333 4336 4352 4368\n",
      " 4374 4378 4389 4395 4409 4428 4436 4439 4449 4450 4454 4459 4461 4472\n",
      " 4478 4488 4499 4500 4507 4515 4518 4519 4524 4531 4536 4537 4538 4541\n",
      " 4544 4546 4550 4551 4558 4561 4565 4570 4584 4585 4587 4595 4596 4608\n",
      " 4613 4622 4631 4633 4643 4645 4647 4655 4657 4664 4675 4678 4691 4697\n",
      " 4700 4701 4711 4715 4716 4723 4734 4738 4743 4746 4750 4751 4758 4759\n",
      " 4762 4764 4769 4771 4774 4776 4778 4784 4788 4802 4803 4811 4817 4820\n",
      " 4822 4824 4827 4830 4834 4836 4837 4840 4846 4855 4864 4867 4871 4872\n",
      " 4873 4876 4881 4893 4897 4899 4902 4913 4916 4932 4935 4941 4943 4975\n",
      " 4977 4979]\n",
      "[0.9478435305917753, 0.9518072289156626, 0.9447791164658634, 0.9477911646586346, 0.9487951807228916]\n",
      "Accuracy:  0.9482032442709654\n"
     ]
    }
   ],
   "source": [
    "from sklearn.model_selection import StratifiedKFold\n",
    "from sklearn.metrics import accuracy_score\n",
    "\n",
    "skf = StratifiedKFold(n_splits=5,random_state=None,shuffle=True)\n",
    "accuracy=[]\n",
    "\n",
    "for train_index,test_index in skf.split(X,Y):\n",
    "    print(\"Train: \",train_index,\"Test: \",test_index)\n",
    "    X_train,X_test = X.iloc[train_index], X.iloc[test_index]\n",
    "    Y_train,Y_test = Y.iloc[train_index], Y.iloc[test_index]\n",
    "\n",
    "    model = RandomForestClassifier(n_estimators=60,criterion=\"gini\",random_state=None)\n",
    "    model.fit(X_train,Y_train)\n",
    "    Y_pred = model.predict(X_test)\n",
    "    score = accuracy_score(Y_test,Y_pred)\n",
    "    accuracy.append(score)\n",
    "\n",
    "print(accuracy)\n",
    "print(\"Accuracy: \",np.mean(accuracy))"
   ]
  },
  {
   "cell_type": "code",
   "execution_count": 42,
   "metadata": {},
   "outputs": [
    {
     "data": {
      "image/png": "[encoded data removed]",
      "text/plain": [
       "<Figure size 432x288 with 2 Axes>"
      ]
     },
     "metadata": {
      "needs_background": "light"
     },
     "output_type": "display_data"
    }
   ],
   "source": [
    "from sklearn.metrics import confusion_matrix, classification_report\n",
    "sns.heatmap(confusion_matrix(Y_test,Y_pred),annot=True,fmt=\"d\")\n",
    "plt.show()"
   ]
  },
  {
   "cell_type": "markdown",
   "metadata": {},
   "source": [
    "As we can see, the FP is less than FN, we have to consider recall score as evaluation metric."
   ]
  },
  {
   "cell_type": "code",
   "execution_count": 43,
   "metadata": {},
   "outputs": [
    {
     "data": {
      "text/plain": [
       "ExtraTreesClassifier(n_estimators=50, random_state=0)"
      ]
     },
     "execution_count": 43,
     "metadata": {},
     "output_type": "execute_result"
    }
   ],
   "source": [
    "from sklearn.ensemble import ExtraTreesClassifier\n",
    "imp = ExtraTreesClassifier(n_estimators=50,random_state=0)\n",
    "imp.fit(X,Y)"
   ]
  },
  {
   "cell_type": "code",
   "execution_count": 44,
   "metadata": {},
   "outputs": [
    {
     "data": {
      "image/png": "[encoded data removed]",
      "text/plain": [
       "<Figure size 864x576 with 1 Axes>"
      ]
     },
     "metadata": {
      "needs_background": "light"
     },
     "output_type": "display_data"
    }
   ],
   "source": [
    "plt.figure(figsize=(12,8))\n",
    "plt.title(\"Feature Importance\",fontsize=20)\n",
    "feat_importances = pd.Series(imp.feature_importances_,index=X.columns)\n",
    "feat_importances.nlargest(10).plot(kind=\"barh\")\n",
    "plt.show()"
   ]
  },
  {
   "cell_type": "code",
   "execution_count": 45,
   "metadata": {},
   "outputs": [
    {
     "data": {
      "text/plain": [
       "<AxesSubplot:xlabel='smoking_status', ylabel='stroke'>"
      ]
     },
     "execution_count": 45,
     "metadata": {},
     "output_type": "execute_result"
    },
    {
     "data": {
      "image/png": "[encoded data removed]",
      "text/plain": [
       "<Figure size 432x288 with 1 Axes>"
      ]
     },
     "metadata": {
      "needs_background": "light"
     },
     "output_type": "display_data"
    }
   ],
   "source": [
    "sns.barplot(x=df1[\"smoking_status\"][0:10],y=df1[\"stroke\"][0:10])"
   ]
  },
  {
   "cell_type": "markdown",
   "metadata": {},
   "source": [
    "### Saving model"
   ]
  },
  {
   "cell_type": "code",
   "execution_count": 46,
   "metadata": {},
   "outputs": [],
   "source": [
    "import pickle"
   ]
  },
  {
   "cell_type": "code",
   "execution_count": 47,
   "metadata": {},
   "outputs": [],
   "source": [
    "pickle.dump(model,open(\"model.pkl\",\"wb\"))"
   ]
  }
 ],
 "metadata": {
  "kernelspec": {
   "display_name": "Python 3.7.9 64-bit",
   "language": "python",
   "name": "python3"
  },
  "language_info": {
   "codemirror_mode": {
    "name": "ipython",
    "version": 3
   },
   "file_extension": ".py",
   "mimetype": "text/x-python",
   "name": "python",
   "nbconvert_exporter": "python",
   "pygments_lexer": "ipython3",
   "version": "3.7.9"
  },
  "orig_nbformat": 4,
  "vscode": {
   "interpreter": {
    "hash": "5109d816b82be14675a6b11f8e0f0d2e80f029176ed3710d54e125caa8520dfd"
   }
  }
 },
 "nbformat": 4,
 "nbformat_minor": 2
}
